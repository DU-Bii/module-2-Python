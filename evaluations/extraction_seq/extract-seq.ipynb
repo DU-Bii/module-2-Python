{
 "cells": [
  {
   "cell_type": "markdown",
   "metadata": {},
   "source": [
    "# Extraction des séquences codantes (CDS) annotées sur le génome de la levure *Saccharomyces Cerevisiae*\n",
    "    \n",
    "## Enoncé du mini-projet\n",
    "\n",
    "Le fichier [S_cerevisiae_chromosomes.fna](./S_cerevisiae_chromosomes.fna) est un fichier multi-FASTA qui contient les 16 **séquences chromosomiques** de la levure *Saccharomyces cerevisiae*.\n",
    "\n",
    "```\n",
    ">BK006935.2 TPA_inf: Saccharomyces cerevisiae S288c chromosome I, complete sequence\n",
    "ccacaccacacccacacacccacacaccacaccacacaccacaccacacccacacacacacatCCTAACACTACCCTAAC\n",
    "ACAGCCCTAATCTAACCCTGGCCAACCTGTCTCTCAACTTACCCTCCATTACCCTGCCTCCACTCGTTACCCTGTCCCAT\n",
    "TCAACCATACCACTCCGAACCACCATCCATCCCTCTACTTACTACCACTCACCCACCGTTACCCTCCAATTACCCATATC\n",
    "...\n",
    "```\n",
    "\n",
    "Le fichier [S_cerevisiae_annotations.gff](./S_cerevisiae_annotations.gff) contient les **annotations** du génome de la levure *Saccharomyces cerevisiae*.\n",
    "\n",
    "```\n",
    "##gff-version 3\n",
    "#!gff-spec-version 1.20\n",
    "#!processor NCBI annotwriter\n",
    "#!genome-build R64-1-1\n",
    "#!genome-build-accession NCBI_Assembly:GCA_000146045.2\n",
    "##sequence-region BK006935.2 1 230218\n",
    "##species http://www.ncbi.nlm.nih.gov/Taxonomy/Browser/wwwtax.cgi?id=559292\n",
    "BK006935.2\ttpg\tregion\t1\t230218\t.\t+\t.\tID=id0;Dbxref=taxon:559292;Name=I;chromosome=I;gbkey=Src;genome=chromosome;mol_type=genomic DNA;strain=S288c\n",
    "BK006935.2\ttpg\tregion\t1\t801\t.\t-\t.\tID=id1;Dbxref=SGD:S000028862;Note=TEL01L%3B Telomeric region on the left arm of Chromosome I%3B composed of an X element core sequence%2C X element combinatorial repeats%2C and a short terminal stretch of telomeric repeats;gbkey=telomere\n",
    "BK006935.2\ttpg\tgene\t1807\t2169\t.\t-\t.\tID=gene0;Name=PAU8;gbkey=Gene;gene=PAU8;locus_tag=YAL068C\n",
    "BK006935.2\ttpg\tmRNA\t1807\t2169\t.\t-\t.\tID=rna0;Parent=gene0;gbkey=mRNA;gene=PAU8;product=seripauperin PAU8\n",
    "BK006935.2\ttpg\texon\t1807\t2169\t.\t-\t.\tID=id3;Parent=rna0;gbkey=mRNA;gene=PAU8;product=seripauperin PAU8\n",
    "BK006935.2\ttpg\tCDS\t1807\t2169\t.\t-\t0\tID=cds0;Parent=rna0;Dbxref=SGD:S000002142,NCBI_GP:DAA06918.1;Name=DAA06918.1;Note=hypothetical protein%3B member of the seripauperin multigene family encoded mainly in subtelomeric regions;gbkey=CDS;gene=PAU8;product=seripauperin PAU8;protein_id=DAA06918.1\n",
    "...\n",
    "```\n",
    "\n",
    "L'objectif de ce mini-projet est de créer un **fichier multi-FASTA** contenant les **séquences** des **CDS** annotées (c'est-à-dire quand la 3e colonne contient \"CDS\" dans le fichier d'annotations).\n",
    "\n",
    "Vous trouverez le **nom de la séquence de référence** (1re colonne), les **positions de début** (4e colonne) et **de fin** (5e colonne), le **sens** de la séquence (7e colonne) ainsi que l'**identifiant** associé à la séquence codante (sous-partie \"ID=\" de la 9e colonne) dans le fichier d'annotations.\n",
    "\n",
    "Vous pourrez ainsi récupérer la portion de séquence d'intérêt dans le fichier multi-FASTA.\n",
    "\n",
    "**Exemple de sortie :**\n",
    "\n",
    "```\n",
    ">cds0\n",
    "ATGGTCAAATTAACTTCAATCGCCGCTGGTGTCGCTGCCATCGCTGCTACTGCTTCTGCA\n",
    "ACCACCACTCTAGCTCAATCTGACGAAAGAGTCAACTTGGTGGAATTGGGTGTCTACGTC\n",
    "TCTGATATCAGAGCTCACTTAGCCCAATACTACATGTTCCAAGCCGCCCACCCAACTGAA\n",
    "ACCTACCCAGTCGAAGTTGCTGAAGCCGTTTTCAACTACGGTGACTTCACCACCATGTTG\n",
    "ACCGGTATTGCTCCAGACCAAGTGACCAGAATGATCACCGGTGTTCCATGGTACTCCAGC\n",
    "AGATTAAAGCCAGCCATCTCCAGTGCTCTATCCAAGGACGGTATCTACACTATCGCAAAC\n",
    "TAG\n",
    ">cds1\n",
    "ATGCCAATTATAGGGGTGCCGAGGTGCCTTATAAAACCCTTTTCTGTGCCTGTGACATTT\n",
    "CCTTTTTCGGTCAAAAAGAATATCCGAATTTTAGATTTGGACCCTCGTACAGAAGCTTAT\n",
    "TGTCTAAGCCTGAATTCAGTCTGCTTTAAACGGCTTCCGCGGAGGAAATATTTCCATCTC\n",
    "TTGAATTCGTACAACATTAAACGTGTGTTGGGAGTCGTATACTGTTAG\n",
    "```"
   ]
  },
  {
   "cell_type": "markdown",
   "metadata": {},
   "source": [
    "## Import des librairies\n",
    "\n",
    "Voici les librairies qui peuvent vous être utiles."
   ]
  },
  {
   "cell_type": "code",
   "execution_count": 2,
   "metadata": {},
   "outputs": [],
   "source": [
    "from Bio import SeqIO\n",
    "from Bio.Seq import Seq\n",
    "from Bio.SeqRecord import SeqRecord\n",
    "import pandas as pd\n",
    "import matplotlib.pyplot as plt"
   ]
  },
  {
   "cell_type": "markdown",
   "metadata": {},
   "source": [
    "## Lecture du fichier multi-FASTA"
   ]
  },
  {
   "cell_type": "markdown",
   "metadata": {},
   "source": [
    "La lecture du fichier multi-FASTA peut se faire de différentes manières. Au choix, vous pouvez utiliser :\n",
    "\n",
    "1. [Biopython](https://biopython.org/)\n",
    "\n",
    "    Utilisez l'interface [SeqIO](https://biopython.org/wiki/SeqIO) de [Biopython](https://biopython.org/) afin de convertir le fichier multi-FASTA contenant les séquences des chromosomes de *Saccharomyces cerevisiae* en dictionnaire.\n",
    "\n",
    "2. Les fonctionnalités de base du langage Python en suivant ces deux grandes étapes :\n",
    "\n",
    "    - Parcourez en lecture le fichier multi-FASTA,\n",
    "    - puis créez un dictionnaire (clé : nom de la séquence chromosomique , valeur : séquence chromosomique).\n",
    "\n",
    "    Point d'attention : dans un fichier au format FASTA, la séquence est souvent répartie sur plusieurs lignes.\n",
    "    \n",
    "Dans les deux cas, la dernière ligne de la cellule de code ci-dessous affichera les clés de votre dictionnaire."
   ]
  },
  {
   "cell_type": "code",
   "execution_count": 1,
   "metadata": {},
   "outputs": [],
   "source": [
    "# À vous de jouer !"
   ]
  },
  {
   "cell_type": "markdown",
   "metadata": {},
   "source": [
    "## Lecture du fichier GFF3"
   ]
  },
  {
   "cell_type": "markdown",
   "metadata": {},
   "source": [
    "### Création du *dataframe*\n",
    "\n",
    "Créez un *dataframe* avec la librairie [Pandas](https://python.sdv.univ-paris-diderot.fr/17_modules_interet_bioinfo/#174-module-pandas) à partir du fichier au [format GFF3](http://gmod.org/wiki/GFF3) contenant les annotations.\n",
    "\n",
    "Les colonnes seront nommées de la manière suivante pour plus de lisibilité :\n",
    "\n",
    "* colonne 1 : seqname\n",
    "* colonne 2 : source\n",
    "* colonne 3 : type\n",
    "* colonne 4 : start\n",
    "* colonne 5 : end\n",
    "* colonne 6 : score\n",
    "* colonne 7 : strand\n",
    "* colonne 8 : frame\n",
    "* colonne 9 : attributes\n",
    "\n",
    "Le format GPP3 n'étant pas un fichier TSV parfait, pensez à bien lire la [documentation](https://pandas.pydata.org/pandas-docs/stable/reference/api/pandas.read_csv.html) de la fonction `.read_csv()`.\n",
    "\n",
    "La dernière ligne de la cellule de code ci-dessous affichera les 5 premières lignes du *dataframe* créé."
   ]
  },
  {
   "cell_type": "code",
   "execution_count": 2,
   "metadata": {},
   "outputs": [],
   "source": [
    "# À vous de jouer !"
   ]
  },
  {
   "cell_type": "markdown",
   "metadata": {},
   "source": [
    "### Filtrage du *dataframe*\n",
    "\n",
    "Filtrez le *dataframe* afin de ne conserver que les *features* de type **CDS** et les colonnes d'intérêt suivantes :\n",
    "\n",
    "* seqname : identifiant de la séquence de référence\n",
    "* start : position de début de la séquence codante\n",
    "* end : position de fin de la séquence codante\n",
    "* strand : brin de la séquence codante\n",
    "* attributes : informations supplémentaires dont l'identifiant (ID) de la séquence\n",
    "\n",
    "La dernière ligne de la cellule de code ci-dessous affichera les 5 premières lignes du nouveau dataframe créé."
   ]
  },
  {
   "cell_type": "code",
   "execution_count": 3,
   "metadata": {},
   "outputs": [],
   "source": [
    "# À vous de jouer !"
   ]
  },
  {
   "cell_type": "markdown",
   "metadata": {},
   "source": [
    "## Écriture du fichier multi-FASTA\n",
    "\n",
    "La sortie attendue doit contenir l'ensemble des séquences codantes (CDS) du génome au **format FASTA**. Le nom du fichier de sortie sera `S_cerevisiae_cds.fasta`.\n",
    "\n",
    "Les informations de chaque CDS présentes dans le *dataframe* vont permettre d'extraire leurs séquences à partir du dictionnaire contenant les séquences de référence.\n",
    "\n",
    "Grâce aux positions de début et de fin du *feature* de type CDS, vous pouvez extraire sa séquence à partir du dictionnaire préalablement créé. Dans le cas où l'élement est positionné sur le brin **-**, il faudra « inverse complémenter » la séquence :\n",
    "\n",
    "```\n",
    "séquence initiale :               5'-ATGC-3'\n",
    "séquence complémentaire :         3'-TACG-5'\n",
    "séquence inverse complémentaire : 5'-GCAT-3'\n",
    "```\n",
    "\n",
    "Plusieurs possibilités s'offrent à vous :\n",
    "\n",
    "1. Si vous avez utilisé [Biopython](https://biopython.org/) pour lire le fichier multi-FASTA, utilisez également l'interface [SeqIO](https://biopython.org/wiki/SeqIO) et l'objet [SeqRecord](https://biopython.org/wiki/SeqRecord) de [Biopython](https://biopython.org/) afin d'écrire le fichier de sortie au format attendu. La fonction `reverse_complement()` vous sera d'une grande aide.\n",
    "\n",
    "2. Si vous n'avez pas utilisé [Biopython](https://biopython.org/) pour lire le fichier multi-FASTA, implémentez vous-même le *reverse complement* avec les fonctionnalités de base du langage Python.\n",
    "\n",
    "Dans les deux cas, vous aurez besoin d'itérez sur chaque ligne du *dataframe* que vous avez créé. Voici un morceau de code qui pourra vous y aider :\n",
    "```\n",
    "# On suppose que le dataframe qui ne contient que les CDS s'appelle cds.\n",
    "for idx in cds.index:\n",
    "    seq_ref = cds.loc[idx,\"seqname\"]\n",
    "    debut = cds.loc[idx,\"start\"]\n",
    "    fin = cds.loc[idx,\"end\"]\n",
    "    print(seq_ref, debut, fin)\n",
    "```"
   ]
  },
  {
   "cell_type": "code",
   "execution_count": 5,
   "metadata": {},
   "outputs": [],
   "source": [
    "# À vous de jouer !"
   ]
  },
  {
   "cell_type": "markdown",
   "metadata": {},
   "source": [
    "## Répartition des différents types de *features* sur le génome\n",
    "\n",
    "Récupérez le nombre de chaque *features* à partir de votre *dataframe*.\n",
    "\n",
    "Créez un graphique sous forme de barre horizontale via la librairie [Matplotlib](https://matplotlib.org/3.2.1/gallery/lines_bars_and_markers/barh.html) afin de représenter le nombre des différents types de *features* annotés sur le génome."
   ]
  },
  {
   "cell_type": "code",
   "execution_count": 4,
   "metadata": {},
   "outputs": [],
   "source": [
    "# À vous de jouer !"
   ]
  },
  {
   "cell_type": "code",
   "execution_count": null,
   "metadata": {},
   "outputs": [],
   "source": []
  }
 ],
 "metadata": {
  "kernelspec": {
   "display_name": "Python 3",
   "language": "python",
   "name": "python3"
  },
  "language_info": {
   "codemirror_mode": {
    "name": "ipython",
    "version": 3
   },
   "file_extension": ".py",
   "mimetype": "text/x-python",
   "name": "python",
   "nbconvert_exporter": "python",
   "pygments_lexer": "ipython3",
   "version": "3.7.9"
  }
 },
 "nbformat": 4,
 "nbformat_minor": 4
}
