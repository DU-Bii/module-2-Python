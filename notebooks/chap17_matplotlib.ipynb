{
 "cells": [
  {
   "cell_type": "markdown",
   "id": "suspected-anime",
   "metadata": {},
   "source": [
    "# Matplotlib\n",
    "\n",
    "- Bibliothèque graphique.\n",
    "- Pas installée de base dans Python.\n",
    "\n",
    "## Chargement du (sous-)module"
   ]
  },
  {
   "cell_type": "code",
   "execution_count": null,
   "id": "loving-three",
   "metadata": {},
   "outputs": [],
   "source": []
  },
  {
   "cell_type": "markdown",
   "id": "racial-lloyd",
   "metadata": {},
   "source": [
    "## Données\n",
    "\n",
    "Évolution de la concentration d'un produit dans le sang (exprimé en mg/L) en fonction du temps (exprimé en heure).\n",
    "\n",
    "| Temps (h) | Concentration (mg/L) |\n",
    "|:---------:|:--------------------:|\n",
    "|     1     |          3.5         |\n",
    "|     2     |          5.8         |\n",
    "|     3     |          9.1         |\n",
    "|     4     |         11.8         |\n",
    "|     6     |         17.5         |\n",
    "|     7     |         21.3         |\n",
    "|     9     |         26.8         |"
   ]
  },
  {
   "cell_type": "code",
   "execution_count": null,
   "id": "infinite-classic",
   "metadata": {},
   "outputs": [],
   "source": [
    "temps = [1, 2, 3, 4, 6, 7, 9]\n",
    "concentration = [5.5, 7.2, 11.8, 13.6, 19.1, 21.7, 29.4]"
   ]
  },
  {
   "cell_type": "markdown",
   "id": "covered-niagara",
   "metadata": {},
   "source": [
    "## Nuage de points\n",
    "\n",
    "`plt.scatter()`"
   ]
  },
  {
   "cell_type": "code",
   "execution_count": null,
   "id": "respiratory-nurse",
   "metadata": {},
   "outputs": [],
   "source": []
  },
  {
   "cell_type": "code",
   "execution_count": null,
   "id": "stretch-interval",
   "metadata": {},
   "outputs": [],
   "source": []
  },
  {
   "cell_type": "code",
   "execution_count": null,
   "id": "scheduled-handle",
   "metadata": {},
   "outputs": [],
   "source": []
  },
  {
   "cell_type": "code",
   "execution_count": null,
   "id": "hazardous-complaint",
   "metadata": {},
   "outputs": [],
   "source": []
  },
  {
   "cell_type": "code",
   "execution_count": null,
   "id": "major-filter",
   "metadata": {},
   "outputs": [],
   "source": []
  },
  {
   "cell_type": "markdown",
   "id": "modern-cornwall",
   "metadata": {},
   "source": [
    "Choix des *markers* : https://matplotlib.org/stable/api/markers_api.html"
   ]
  },
  {
   "cell_type": "markdown",
   "id": "romance-ozone",
   "metadata": {},
   "source": [
    "## Lignes\n",
    "\n",
    "`plt.plot()`"
   ]
  },
  {
   "cell_type": "code",
   "execution_count": null,
   "id": "challenging-socket",
   "metadata": {},
   "outputs": [],
   "source": []
  },
  {
   "cell_type": "code",
   "execution_count": null,
   "id": "level-arkansas",
   "metadata": {},
   "outputs": [],
   "source": []
  },
  {
   "cell_type": "code",
   "execution_count": null,
   "id": "impressed-equality",
   "metadata": {},
   "outputs": [],
   "source": []
  },
  {
   "cell_type": "code",
   "execution_count": null,
   "id": "flexible-slave",
   "metadata": {},
   "outputs": [],
   "source": []
  },
  {
   "cell_type": "code",
   "execution_count": null,
   "id": "weird-finance",
   "metadata": {},
   "outputs": [],
   "source": []
  },
  {
   "cell_type": "code",
   "execution_count": null,
   "id": "subjective-saying",
   "metadata": {},
   "outputs": [],
   "source": [
    "plt.plot(temps, concentration, color=\"green\", linestyle=\"--\", linewidth=4, \n",
    "         marker=\"o\", markersize=12, markerfacecolor=\"orange\")\n",
    "plt.xlabel(\"Temps (h)\")\n",
    "plt.ylabel(\"Concentration (mg/L)\")\n",
    "plt.title(\"Concentration de produit en fonction du temps\");"
   ]
  },
  {
   "cell_type": "markdown",
   "id": "employed-nomination",
   "metadata": {},
   "source": [
    "Cheat sheets : https://github.com/matplotlib/cheatsheets"
   ]
  },
  {
   "cell_type": "markdown",
   "id": "changed-bearing",
   "metadata": {},
   "source": [
    "## Diagramme en bâtons"
   ]
  },
  {
   "cell_type": "code",
   "execution_count": null,
   "id": "fitted-external",
   "metadata": {},
   "outputs": [],
   "source": [
    "bases = [\"A\", \"T\", \"C\", \"G\"]\n",
    "distribution = [85, 59, 68, 74]"
   ]
  },
  {
   "cell_type": "markdown",
   "id": "maritime-tanzania",
   "metadata": {},
   "source": [
    "`plt.bar()`"
   ]
  },
  {
   "cell_type": "code",
   "execution_count": null,
   "id": "prescription-summit",
   "metadata": {},
   "outputs": [],
   "source": []
  },
  {
   "cell_type": "code",
   "execution_count": null,
   "id": "rental-packing",
   "metadata": {},
   "outputs": [],
   "source": []
  },
  {
   "cell_type": "code",
   "execution_count": null,
   "id": "ranging-faculty",
   "metadata": {},
   "outputs": [],
   "source": []
  },
  {
   "cell_type": "code",
   "execution_count": null,
   "id": "armed-donna",
   "metadata": {},
   "outputs": [],
   "source": []
  },
  {
   "cell_type": "markdown",
   "id": "southern-moisture",
   "metadata": {},
   "source": [
    "`plt.barh()`"
   ]
  },
  {
   "cell_type": "code",
   "execution_count": null,
   "id": "sound-enzyme",
   "metadata": {},
   "outputs": [],
   "source": [
    "plt.barh(bases, distribution, color=\"palegreen\", edgecolor=\"green\", linewidth=2)\n",
    "plt.ylabel(\"Bases\")\n",
    "plt.xlabel(\"Nombre de bases\")\n",
    "plt.title(\"Nombre de bases dans ma séquence\");\n",
    "plt.savefig(\"composition_bases.png\", dpi=300)"
   ]
  },
  {
   "cell_type": "code",
   "execution_count": null,
   "id": "mineral-collector",
   "metadata": {},
   "outputs": [],
   "source": []
  },
  {
   "cell_type": "markdown",
   "id": "absent-grace",
   "metadata": {},
   "source": [
    "Une superbe référence : https://www.python-graph-gallery.com/   \n",
    "Très complète avec Seaborn, **Matplotlib** et Plotly"
   ]
  }
 ],
 "metadata": {
  "kernelspec": {
   "display_name": "Python 3",
   "language": "python",
   "name": "python3"
  },
  "language_info": {
   "codemirror_mode": {
    "name": "ipython",
    "version": 3
   },
   "file_extension": ".py",
   "mimetype": "text/x-python",
   "name": "python",
   "nbconvert_exporter": "python",
   "pygments_lexer": "ipython3",
   "version": "3.7.10"
  }
 },
 "nbformat": 4,
 "nbformat_minor": 5
}
