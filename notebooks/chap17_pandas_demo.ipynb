{
 "cells": [
  {
   "cell_type": "markdown",
   "id": "personalized-citizenship",
   "metadata": {},
   "source": [
    "# Pandas\n",
    "\n",
    "Bibliothèque de manipulation de tableau (*dataframe*).\n",
    "\n",
    "Très performante pour l'analyse de données.\n",
    "\n",
    "![](https://cdn.pixabay.com/photo/2018/12/05/13/41/panda-3857754_960_720.jpg)\n",
    "## Chargement du module"
   ]
  },
  {
   "cell_type": "code",
   "execution_count": 1,
   "id": "closing-snake",
   "metadata": {},
   "outputs": [],
   "source": [
    "import pandas as pd"
   ]
  },
  {
   "cell_type": "markdown",
   "id": "pending-adelaide",
   "metadata": {},
   "source": [
    "## Créer des données\n",
    "\n",
    "On utilise aussi le module Numpy pour créer des données."
   ]
  },
  {
   "cell_type": "code",
   "execution_count": 2,
   "id": "arctic-atmosphere",
   "metadata": {},
   "outputs": [],
   "source": [
    "import numpy as np"
   ]
  },
  {
   "cell_type": "markdown",
   "id": "premier-overview",
   "metadata": {},
   "source": [
    "Par lignes :"
   ]
  },
  {
   "cell_type": "code",
   "execution_count": 3,
   "id": "primary-ticket",
   "metadata": {},
   "outputs": [],
   "source": [
    "df = pd.DataFrame(columns=[\"a\", \"b\", \"c\", \"d\"],\n",
    "                  index=[\"chat\", \"singe\", \"souris\"],\n",
    "                  data=[np.arange(10, 14),\n",
    "                        np.arange(20, 24),\n",
    "                        np.arange(30, 34)])"
   ]
  },
  {
   "cell_type": "code",
   "execution_count": 4,
   "id": "conservative-bradford",
   "metadata": {},
   "outputs": [
    {
     "data": {
      "text/html": [
       "<div>\n",
       "<style scoped>\n",
       "    .dataframe tbody tr th:only-of-type {\n",
       "        vertical-align: middle;\n",
       "    }\n",
       "\n",
       "    .dataframe tbody tr th {\n",
       "        vertical-align: top;\n",
       "    }\n",
       "\n",
       "    .dataframe thead th {\n",
       "        text-align: right;\n",
       "    }\n",
       "</style>\n",
       "<table border=\"1\" class=\"dataframe\">\n",
       "  <thead>\n",
       "    <tr style=\"text-align: right;\">\n",
       "      <th></th>\n",
       "      <th>a</th>\n",
       "      <th>b</th>\n",
       "      <th>c</th>\n",
       "      <th>d</th>\n",
       "    </tr>\n",
       "  </thead>\n",
       "  <tbody>\n",
       "    <tr>\n",
       "      <th>chat</th>\n",
       "      <td>10</td>\n",
       "      <td>11</td>\n",
       "      <td>12</td>\n",
       "      <td>13</td>\n",
       "    </tr>\n",
       "    <tr>\n",
       "      <th>singe</th>\n",
       "      <td>20</td>\n",
       "      <td>21</td>\n",
       "      <td>22</td>\n",
       "      <td>23</td>\n",
       "    </tr>\n",
       "    <tr>\n",
       "      <th>souris</th>\n",
       "      <td>30</td>\n",
       "      <td>31</td>\n",
       "      <td>32</td>\n",
       "      <td>33</td>\n",
       "    </tr>\n",
       "  </tbody>\n",
       "</table>\n",
       "</div>"
      ],
      "text/plain": [
       "         a   b   c   d\n",
       "chat    10  11  12  13\n",
       "singe   20  21  22  23\n",
       "souris  30  31  32  33"
      ]
     },
     "execution_count": 4,
     "metadata": {},
     "output_type": "execute_result"
    }
   ],
   "source": [
    "df"
   ]
  },
  {
   "cell_type": "markdown",
   "id": "fifty-celtic",
   "metadata": {},
   "source": [
    "Par colonnes :"
   ]
  },
  {
   "cell_type": "code",
   "execution_count": 5,
   "id": "monetary-medication",
   "metadata": {},
   "outputs": [
    {
     "data": {
      "text/html": [
       "<div>\n",
       "<style scoped>\n",
       "    .dataframe tbody tr th:only-of-type {\n",
       "        vertical-align: middle;\n",
       "    }\n",
       "\n",
       "    .dataframe tbody tr th {\n",
       "        vertical-align: top;\n",
       "    }\n",
       "\n",
       "    .dataframe thead th {\n",
       "        text-align: right;\n",
       "    }\n",
       "</style>\n",
       "<table border=\"1\" class=\"dataframe\">\n",
       "  <thead>\n",
       "    <tr style=\"text-align: right;\">\n",
       "      <th></th>\n",
       "      <th>a</th>\n",
       "      <th>b</th>\n",
       "      <th>c</th>\n",
       "      <th>d</th>\n",
       "    </tr>\n",
       "  </thead>\n",
       "  <tbody>\n",
       "    <tr>\n",
       "      <th>chat</th>\n",
       "      <td>10</td>\n",
       "      <td>11</td>\n",
       "      <td>12</td>\n",
       "      <td>13</td>\n",
       "    </tr>\n",
       "    <tr>\n",
       "      <th>singe</th>\n",
       "      <td>20</td>\n",
       "      <td>21</td>\n",
       "      <td>22</td>\n",
       "      <td>23</td>\n",
       "    </tr>\n",
       "    <tr>\n",
       "      <th>souris</th>\n",
       "      <td>30</td>\n",
       "      <td>31</td>\n",
       "      <td>32</td>\n",
       "      <td>33</td>\n",
       "    </tr>\n",
       "  </tbody>\n",
       "</table>\n",
       "</div>"
      ],
      "text/plain": [
       "         a   b   c   d\n",
       "chat    10  11  12  13\n",
       "singe   20  21  22  23\n",
       "souris  30  31  32  33"
      ]
     },
     "execution_count": 5,
     "metadata": {},
     "output_type": "execute_result"
    }
   ],
   "source": [
    "data = {\"a\": np.arange(10, 40, 10),\n",
    "        \"b\": np.arange(11, 40, 10),\n",
    "        \"c\": np.arange(12, 40, 10),\n",
    "        \"d\": np.arange(13, 40, 10)}\n",
    "\n",
    "df = pd.DataFrame(data)\n",
    "\n",
    "df.index = [\"chat\", \"singe\", \"souris\"]\n",
    "\n",
    "df"
   ]
  },
  {
   "cell_type": "markdown",
   "id": "defensive-shore",
   "metadata": {},
   "source": [
    "## Charger un jeu de données existant\n",
    "\n",
    "On télécharge le jeu de données avec la commande Unix `wget` :"
   ]
  },
  {
   "cell_type": "code",
   "execution_count": 6,
   "id": "suspected-stamp",
   "metadata": {},
   "outputs": [
    {
     "name": "stdout",
     "output_type": "stream",
     "text": [
      "--2021-03-30 09:21:17--  https://python.sdv.univ-paris-diderot.fr/data-files/people.tsv\n",
      "Résolution de python.sdv.univ-paris-diderot.fr (python.sdv.univ-paris-diderot.fr)… 194.254.61.54, 2001:660:3301:8003::54\n",
      "Connexion à python.sdv.univ-paris-diderot.fr (python.sdv.univ-paris-diderot.fr)|194.254.61.54|:443… connecté.\n",
      "requête HTTP transmise, en attente de la réponse… 200 OK\n",
      "Taille : 253 [text/tab-separated-values]\n",
      "Enregistre : «people.tsv»\n",
      "\n",
      "people.tsv          100%[===================>]     253  --.-KB/s    ds 0s      \n",
      "\n",
      "2021-03-30 09:21:18 (28,0 MB/s) - «people.tsv» enregistré [253/253]\n",
      "\n"
     ]
    }
   ],
   "source": [
    "!wget https://python.sdv.univ-paris-diderot.fr/data-files/people.tsv"
   ]
  },
  {
   "cell_type": "markdown",
   "id": "hearing-duplicate",
   "metadata": {},
   "source": [
    "Chargement du jeu de données avec la fonction `.read_csv()` :"
   ]
  },
  {
   "cell_type": "code",
   "execution_count": 7,
   "id": "painted-disabled",
   "metadata": {},
   "outputs": [],
   "source": [
    "people = pd.read_csv(\"people.tsv\", sep=\"\\t\")"
   ]
  },
  {
   "cell_type": "code",
   "execution_count": 8,
   "id": "lesser-absence",
   "metadata": {},
   "outputs": [
    {
     "data": {
      "text/html": [
       "<div>\n",
       "<style scoped>\n",
       "    .dataframe tbody tr th:only-of-type {\n",
       "        vertical-align: middle;\n",
       "    }\n",
       "\n",
       "    .dataframe tbody tr th {\n",
       "        vertical-align: top;\n",
       "    }\n",
       "\n",
       "    .dataframe thead th {\n",
       "        text-align: right;\n",
       "    }\n",
       "</style>\n",
       "<table border=\"1\" class=\"dataframe\">\n",
       "  <thead>\n",
       "    <tr style=\"text-align: right;\">\n",
       "      <th></th>\n",
       "      <th>name</th>\n",
       "      <th>sex</th>\n",
       "      <th>size</th>\n",
       "      <th>age</th>\n",
       "    </tr>\n",
       "  </thead>\n",
       "  <tbody>\n",
       "    <tr>\n",
       "      <th>0</th>\n",
       "      <td>simon</td>\n",
       "      <td>male</td>\n",
       "      <td>175</td>\n",
       "      <td>33</td>\n",
       "    </tr>\n",
       "    <tr>\n",
       "      <th>1</th>\n",
       "      <td>clara</td>\n",
       "      <td>female</td>\n",
       "      <td>167</td>\n",
       "      <td>45</td>\n",
       "    </tr>\n",
       "    <tr>\n",
       "      <th>2</th>\n",
       "      <td>serge</td>\n",
       "      <td>male</td>\n",
       "      <td>181</td>\n",
       "      <td>44</td>\n",
       "    </tr>\n",
       "    <tr>\n",
       "      <th>3</th>\n",
       "      <td>claire</td>\n",
       "      <td>female</td>\n",
       "      <td>174</td>\n",
       "      <td>31</td>\n",
       "    </tr>\n",
       "    <tr>\n",
       "      <th>4</th>\n",
       "      <td>patrick</td>\n",
       "      <td>male</td>\n",
       "      <td>172</td>\n",
       "      <td>52</td>\n",
       "    </tr>\n",
       "    <tr>\n",
       "      <th>5</th>\n",
       "      <td>julie</td>\n",
       "      <td>female</td>\n",
       "      <td>168</td>\n",
       "      <td>37</td>\n",
       "    </tr>\n",
       "    <tr>\n",
       "      <th>6</th>\n",
       "      <td>paul</td>\n",
       "      <td>male</td>\n",
       "      <td>185</td>\n",
       "      <td>29</td>\n",
       "    </tr>\n",
       "    <tr>\n",
       "      <th>7</th>\n",
       "      <td>jeanne</td>\n",
       "      <td>female</td>\n",
       "      <td>172</td>\n",
       "      <td>56</td>\n",
       "    </tr>\n",
       "    <tr>\n",
       "      <th>8</th>\n",
       "      <td>baptiste</td>\n",
       "      <td>male</td>\n",
       "      <td>178</td>\n",
       "      <td>39</td>\n",
       "    </tr>\n",
       "    <tr>\n",
       "      <th>9</th>\n",
       "      <td>mathilde</td>\n",
       "      <td>female</td>\n",
       "      <td>168</td>\n",
       "      <td>46</td>\n",
       "    </tr>\n",
       "    <tr>\n",
       "      <th>10</th>\n",
       "      <td>bob</td>\n",
       "      <td>male</td>\n",
       "      <td>186</td>\n",
       "      <td>33</td>\n",
       "    </tr>\n",
       "    <tr>\n",
       "      <th>11</th>\n",
       "      <td>elise</td>\n",
       "      <td>female</td>\n",
       "      <td>159</td>\n",
       "      <td>63</td>\n",
       "    </tr>\n",
       "  </tbody>\n",
       "</table>\n",
       "</div>"
      ],
      "text/plain": [
       "        name     sex  size  age\n",
       "0      simon    male   175   33\n",
       "1      clara  female   167   45\n",
       "2      serge    male   181   44\n",
       "3     claire  female   174   31\n",
       "4    patrick    male   172   52\n",
       "5      julie  female   168   37\n",
       "6       paul    male   185   29\n",
       "7     jeanne  female   172   56\n",
       "8   baptiste    male   178   39\n",
       "9   mathilde  female   168   46\n",
       "10       bob    male   186   33\n",
       "11     elise  female   159   63"
      ]
     },
     "execution_count": 8,
     "metadata": {},
     "output_type": "execute_result"
    }
   ],
   "source": [
    "people"
   ]
  },
  {
   "cell_type": "markdown",
   "id": "blessed-japanese",
   "metadata": {},
   "source": [
    "On souhaite plutôt que la colonne `name` soit utilisé comme index :"
   ]
  },
  {
   "cell_type": "code",
   "execution_count": 9,
   "id": "blond-steal",
   "metadata": {},
   "outputs": [],
   "source": [
    "people = pd.read_csv(\"people.tsv\", sep=\"\\t\", index_col=\"name\")"
   ]
  },
  {
   "cell_type": "code",
   "execution_count": 10,
   "id": "white-jungle",
   "metadata": {},
   "outputs": [
    {
     "data": {
      "text/html": [
       "<div>\n",
       "<style scoped>\n",
       "    .dataframe tbody tr th:only-of-type {\n",
       "        vertical-align: middle;\n",
       "    }\n",
       "\n",
       "    .dataframe tbody tr th {\n",
       "        vertical-align: top;\n",
       "    }\n",
       "\n",
       "    .dataframe thead th {\n",
       "        text-align: right;\n",
       "    }\n",
       "</style>\n",
       "<table border=\"1\" class=\"dataframe\">\n",
       "  <thead>\n",
       "    <tr style=\"text-align: right;\">\n",
       "      <th></th>\n",
       "      <th>sex</th>\n",
       "      <th>size</th>\n",
       "      <th>age</th>\n",
       "    </tr>\n",
       "    <tr>\n",
       "      <th>name</th>\n",
       "      <th></th>\n",
       "      <th></th>\n",
       "      <th></th>\n",
       "    </tr>\n",
       "  </thead>\n",
       "  <tbody>\n",
       "    <tr>\n",
       "      <th>simon</th>\n",
       "      <td>male</td>\n",
       "      <td>175</td>\n",
       "      <td>33</td>\n",
       "    </tr>\n",
       "    <tr>\n",
       "      <th>clara</th>\n",
       "      <td>female</td>\n",
       "      <td>167</td>\n",
       "      <td>45</td>\n",
       "    </tr>\n",
       "    <tr>\n",
       "      <th>serge</th>\n",
       "      <td>male</td>\n",
       "      <td>181</td>\n",
       "      <td>44</td>\n",
       "    </tr>\n",
       "    <tr>\n",
       "      <th>claire</th>\n",
       "      <td>female</td>\n",
       "      <td>174</td>\n",
       "      <td>31</td>\n",
       "    </tr>\n",
       "    <tr>\n",
       "      <th>patrick</th>\n",
       "      <td>male</td>\n",
       "      <td>172</td>\n",
       "      <td>52</td>\n",
       "    </tr>\n",
       "    <tr>\n",
       "      <th>julie</th>\n",
       "      <td>female</td>\n",
       "      <td>168</td>\n",
       "      <td>37</td>\n",
       "    </tr>\n",
       "    <tr>\n",
       "      <th>paul</th>\n",
       "      <td>male</td>\n",
       "      <td>185</td>\n",
       "      <td>29</td>\n",
       "    </tr>\n",
       "    <tr>\n",
       "      <th>jeanne</th>\n",
       "      <td>female</td>\n",
       "      <td>172</td>\n",
       "      <td>56</td>\n",
       "    </tr>\n",
       "    <tr>\n",
       "      <th>baptiste</th>\n",
       "      <td>male</td>\n",
       "      <td>178</td>\n",
       "      <td>39</td>\n",
       "    </tr>\n",
       "    <tr>\n",
       "      <th>mathilde</th>\n",
       "      <td>female</td>\n",
       "      <td>168</td>\n",
       "      <td>46</td>\n",
       "    </tr>\n",
       "    <tr>\n",
       "      <th>bob</th>\n",
       "      <td>male</td>\n",
       "      <td>186</td>\n",
       "      <td>33</td>\n",
       "    </tr>\n",
       "    <tr>\n",
       "      <th>elise</th>\n",
       "      <td>female</td>\n",
       "      <td>159</td>\n",
       "      <td>63</td>\n",
       "    </tr>\n",
       "  </tbody>\n",
       "</table>\n",
       "</div>"
      ],
      "text/plain": [
       "             sex  size  age\n",
       "name                       \n",
       "simon       male   175   33\n",
       "clara     female   167   45\n",
       "serge       male   181   44\n",
       "claire    female   174   31\n",
       "patrick     male   172   52\n",
       "julie     female   168   37\n",
       "paul        male   185   29\n",
       "jeanne    female   172   56\n",
       "baptiste    male   178   39\n",
       "mathilde  female   168   46\n",
       "bob         male   186   33\n",
       "elise     female   159   63"
      ]
     },
     "execution_count": 10,
     "metadata": {},
     "output_type": "execute_result"
    }
   ],
   "source": [
    "people"
   ]
  },
  {
   "cell_type": "markdown",
   "id": "adjusted-wagon",
   "metadata": {},
   "source": [
    "## Exploration des données\n",
    "\n",
    "Plusieurs attributs et méthodes permettent d'explorer le jeu de données.\n",
    "\n",
    "Les 5 premières lignes :"
   ]
  },
  {
   "cell_type": "code",
   "execution_count": 11,
   "id": "rental-detail",
   "metadata": {},
   "outputs": [
    {
     "data": {
      "text/html": [
       "<div>\n",
       "<style scoped>\n",
       "    .dataframe tbody tr th:only-of-type {\n",
       "        vertical-align: middle;\n",
       "    }\n",
       "\n",
       "    .dataframe tbody tr th {\n",
       "        vertical-align: top;\n",
       "    }\n",
       "\n",
       "    .dataframe thead th {\n",
       "        text-align: right;\n",
       "    }\n",
       "</style>\n",
       "<table border=\"1\" class=\"dataframe\">\n",
       "  <thead>\n",
       "    <tr style=\"text-align: right;\">\n",
       "      <th></th>\n",
       "      <th>sex</th>\n",
       "      <th>size</th>\n",
       "      <th>age</th>\n",
       "    </tr>\n",
       "    <tr>\n",
       "      <th>name</th>\n",
       "      <th></th>\n",
       "      <th></th>\n",
       "      <th></th>\n",
       "    </tr>\n",
       "  </thead>\n",
       "  <tbody>\n",
       "    <tr>\n",
       "      <th>simon</th>\n",
       "      <td>male</td>\n",
       "      <td>175</td>\n",
       "      <td>33</td>\n",
       "    </tr>\n",
       "    <tr>\n",
       "      <th>clara</th>\n",
       "      <td>female</td>\n",
       "      <td>167</td>\n",
       "      <td>45</td>\n",
       "    </tr>\n",
       "    <tr>\n",
       "      <th>serge</th>\n",
       "      <td>male</td>\n",
       "      <td>181</td>\n",
       "      <td>44</td>\n",
       "    </tr>\n",
       "    <tr>\n",
       "      <th>claire</th>\n",
       "      <td>female</td>\n",
       "      <td>174</td>\n",
       "      <td>31</td>\n",
       "    </tr>\n",
       "    <tr>\n",
       "      <th>patrick</th>\n",
       "      <td>male</td>\n",
       "      <td>172</td>\n",
       "      <td>52</td>\n",
       "    </tr>\n",
       "  </tbody>\n",
       "</table>\n",
       "</div>"
      ],
      "text/plain": [
       "            sex  size  age\n",
       "name                      \n",
       "simon      male   175   33\n",
       "clara    female   167   45\n",
       "serge      male   181   44\n",
       "claire   female   174   31\n",
       "patrick    male   172   52"
      ]
     },
     "execution_count": 11,
     "metadata": {},
     "output_type": "execute_result"
    }
   ],
   "source": [
    "people.head()"
   ]
  },
  {
   "cell_type": "markdown",
   "id": "casual-sucking",
   "metadata": {},
   "source": [
    "Les 3 premières lignes :"
   ]
  },
  {
   "cell_type": "code",
   "execution_count": 12,
   "id": "latest-direction",
   "metadata": {},
   "outputs": [
    {
     "data": {
      "text/html": [
       "<div>\n",
       "<style scoped>\n",
       "    .dataframe tbody tr th:only-of-type {\n",
       "        vertical-align: middle;\n",
       "    }\n",
       "\n",
       "    .dataframe tbody tr th {\n",
       "        vertical-align: top;\n",
       "    }\n",
       "\n",
       "    .dataframe thead th {\n",
       "        text-align: right;\n",
       "    }\n",
       "</style>\n",
       "<table border=\"1\" class=\"dataframe\">\n",
       "  <thead>\n",
       "    <tr style=\"text-align: right;\">\n",
       "      <th></th>\n",
       "      <th>sex</th>\n",
       "      <th>size</th>\n",
       "      <th>age</th>\n",
       "    </tr>\n",
       "    <tr>\n",
       "      <th>name</th>\n",
       "      <th></th>\n",
       "      <th></th>\n",
       "      <th></th>\n",
       "    </tr>\n",
       "  </thead>\n",
       "  <tbody>\n",
       "    <tr>\n",
       "      <th>simon</th>\n",
       "      <td>male</td>\n",
       "      <td>175</td>\n",
       "      <td>33</td>\n",
       "    </tr>\n",
       "    <tr>\n",
       "      <th>clara</th>\n",
       "      <td>female</td>\n",
       "      <td>167</td>\n",
       "      <td>45</td>\n",
       "    </tr>\n",
       "    <tr>\n",
       "      <th>serge</th>\n",
       "      <td>male</td>\n",
       "      <td>181</td>\n",
       "      <td>44</td>\n",
       "    </tr>\n",
       "  </tbody>\n",
       "</table>\n",
       "</div>"
      ],
      "text/plain": [
       "          sex  size  age\n",
       "name                    \n",
       "simon    male   175   33\n",
       "clara  female   167   45\n",
       "serge    male   181   44"
      ]
     },
     "execution_count": 12,
     "metadata": {},
     "output_type": "execute_result"
    }
   ],
   "source": [
    "people.head(3)"
   ]
  },
  {
   "cell_type": "markdown",
   "id": "aerial-constraint",
   "metadata": {},
   "source": [
    "Les 5 dernières lignes :"
   ]
  },
  {
   "cell_type": "code",
   "execution_count": 13,
   "id": "binary-london",
   "metadata": {},
   "outputs": [
    {
     "data": {
      "text/html": [
       "<div>\n",
       "<style scoped>\n",
       "    .dataframe tbody tr th:only-of-type {\n",
       "        vertical-align: middle;\n",
       "    }\n",
       "\n",
       "    .dataframe tbody tr th {\n",
       "        vertical-align: top;\n",
       "    }\n",
       "\n",
       "    .dataframe thead th {\n",
       "        text-align: right;\n",
       "    }\n",
       "</style>\n",
       "<table border=\"1\" class=\"dataframe\">\n",
       "  <thead>\n",
       "    <tr style=\"text-align: right;\">\n",
       "      <th></th>\n",
       "      <th>sex</th>\n",
       "      <th>size</th>\n",
       "      <th>age</th>\n",
       "    </tr>\n",
       "    <tr>\n",
       "      <th>name</th>\n",
       "      <th></th>\n",
       "      <th></th>\n",
       "      <th></th>\n",
       "    </tr>\n",
       "  </thead>\n",
       "  <tbody>\n",
       "    <tr>\n",
       "      <th>jeanne</th>\n",
       "      <td>female</td>\n",
       "      <td>172</td>\n",
       "      <td>56</td>\n",
       "    </tr>\n",
       "    <tr>\n",
       "      <th>baptiste</th>\n",
       "      <td>male</td>\n",
       "      <td>178</td>\n",
       "      <td>39</td>\n",
       "    </tr>\n",
       "    <tr>\n",
       "      <th>mathilde</th>\n",
       "      <td>female</td>\n",
       "      <td>168</td>\n",
       "      <td>46</td>\n",
       "    </tr>\n",
       "    <tr>\n",
       "      <th>bob</th>\n",
       "      <td>male</td>\n",
       "      <td>186</td>\n",
       "      <td>33</td>\n",
       "    </tr>\n",
       "    <tr>\n",
       "      <th>elise</th>\n",
       "      <td>female</td>\n",
       "      <td>159</td>\n",
       "      <td>63</td>\n",
       "    </tr>\n",
       "  </tbody>\n",
       "</table>\n",
       "</div>"
      ],
      "text/plain": [
       "             sex  size  age\n",
       "name                       \n",
       "jeanne    female   172   56\n",
       "baptiste    male   178   39\n",
       "mathilde  female   168   46\n",
       "bob         male   186   33\n",
       "elise     female   159   63"
      ]
     },
     "execution_count": 13,
     "metadata": {},
     "output_type": "execute_result"
    }
   ],
   "source": [
    "people.tail()"
   ]
  },
  {
   "cell_type": "markdown",
   "id": "straight-facial",
   "metadata": {},
   "source": [
    "La taille du jeu de données (nombre de lignes et de colonnes) :"
   ]
  },
  {
   "cell_type": "code",
   "execution_count": 14,
   "id": "general-delhi",
   "metadata": {},
   "outputs": [
    {
     "data": {
      "text/plain": [
       "(12, 3)"
      ]
     },
     "execution_count": 14,
     "metadata": {},
     "output_type": "execute_result"
    }
   ],
   "source": [
    "people.shape"
   ]
  },
  {
   "cell_type": "markdown",
   "id": "dying-xerox",
   "metadata": {},
   "source": [
    "Ce jeu de données contient 12 lignes et 3 colonnes. Si vous ouvrez le fichier correspondant (`people.tsv`) dans Jupyter Lab ou avec Excel, vous trouverez 12 lignes mais 4 colonnes. La première colonne est utilisée comme index du *dataframe* donc n'entre plus en compte dans le nombre de colonnes.\n",
    "\n",
    "On peut afficher le type de données pour chaque colonne :"
   ]
  },
  {
   "cell_type": "code",
   "execution_count": 15,
   "id": "mysterious-sheet",
   "metadata": {},
   "outputs": [
    {
     "data": {
      "text/plain": [
       "sex     object\n",
       "size     int64\n",
       "age      int64\n",
       "dtype: object"
      ]
     },
     "execution_count": 15,
     "metadata": {},
     "output_type": "execute_result"
    }
   ],
   "source": [
    "people.dtypes"
   ]
  },
  {
   "cell_type": "markdown",
   "id": "monthly-twins",
   "metadata": {},
   "source": [
    "Le type `object` est un type générique non-numérique, qui correspond ici à des chaînes de caractères.\n",
    "\n",
    "La méthode `.info()` affiche aussi les types de données pour chaque colonne, le nombre de valeurs et l'espace mémoire occupé par le *dataframe* :"
   ]
  },
  {
   "cell_type": "code",
   "execution_count": 16,
   "id": "textile-capitol",
   "metadata": {},
   "outputs": [
    {
     "name": "stdout",
     "output_type": "stream",
     "text": [
      "<class 'pandas.core.frame.DataFrame'>\n",
      "Index: 12 entries, simon to elise\n",
      "Data columns (total 3 columns):\n",
      " #   Column  Non-Null Count  Dtype \n",
      "---  ------  --------------  ----- \n",
      " 0   sex     12 non-null     object\n",
      " 1   size    12 non-null     int64 \n",
      " 2   age     12 non-null     int64 \n",
      "dtypes: int64(2), object(1)\n",
      "memory usage: 1.6 KB\n"
     ]
    }
   ],
   "source": [
    "people.info(memory_usage=\"deep\")"
   ]
  },
  {
   "cell_type": "markdown",
   "id": "agricultural-december",
   "metadata": {},
   "source": [
    "Enfin, la méthode `.describe()` affiche quelques statistiques, mais pour les colonnes numériques uniquement :"
   ]
  },
  {
   "cell_type": "code",
   "execution_count": 17,
   "id": "passing-haven",
   "metadata": {},
   "outputs": [
    {
     "data": {
      "text/html": [
       "<div>\n",
       "<style scoped>\n",
       "    .dataframe tbody tr th:only-of-type {\n",
       "        vertical-align: middle;\n",
       "    }\n",
       "\n",
       "    .dataframe tbody tr th {\n",
       "        vertical-align: top;\n",
       "    }\n",
       "\n",
       "    .dataframe thead th {\n",
       "        text-align: right;\n",
       "    }\n",
       "</style>\n",
       "<table border=\"1\" class=\"dataframe\">\n",
       "  <thead>\n",
       "    <tr style=\"text-align: right;\">\n",
       "      <th></th>\n",
       "      <th>size</th>\n",
       "      <th>age</th>\n",
       "    </tr>\n",
       "  </thead>\n",
       "  <tbody>\n",
       "    <tr>\n",
       "      <th>count</th>\n",
       "      <td>12.000000</td>\n",
       "      <td>12.000000</td>\n",
       "    </tr>\n",
       "    <tr>\n",
       "      <th>mean</th>\n",
       "      <td>173.750000</td>\n",
       "      <td>42.333333</td>\n",
       "    </tr>\n",
       "    <tr>\n",
       "      <th>std</th>\n",
       "      <td>7.886986</td>\n",
       "      <td>10.662878</td>\n",
       "    </tr>\n",
       "    <tr>\n",
       "      <th>min</th>\n",
       "      <td>159.000000</td>\n",
       "      <td>29.000000</td>\n",
       "    </tr>\n",
       "    <tr>\n",
       "      <th>25%</th>\n",
       "      <td>168.000000</td>\n",
       "      <td>33.000000</td>\n",
       "    </tr>\n",
       "    <tr>\n",
       "      <th>50%</th>\n",
       "      <td>173.000000</td>\n",
       "      <td>41.500000</td>\n",
       "    </tr>\n",
       "    <tr>\n",
       "      <th>75%</th>\n",
       "      <td>178.750000</td>\n",
       "      <td>47.500000</td>\n",
       "    </tr>\n",
       "    <tr>\n",
       "      <th>max</th>\n",
       "      <td>186.000000</td>\n",
       "      <td>63.000000</td>\n",
       "    </tr>\n",
       "  </tbody>\n",
       "</table>\n",
       "</div>"
      ],
      "text/plain": [
       "             size        age\n",
       "count   12.000000  12.000000\n",
       "mean   173.750000  42.333333\n",
       "std      7.886986  10.662878\n",
       "min    159.000000  29.000000\n",
       "25%    168.000000  33.000000\n",
       "50%    173.000000  41.500000\n",
       "75%    178.750000  47.500000\n",
       "max    186.000000  63.000000"
      ]
     },
     "execution_count": 17,
     "metadata": {},
     "output_type": "execute_result"
    }
   ],
   "source": [
    "people.describe()"
   ]
  },
  {
   "cell_type": "markdown",
   "id": "solid-aruba",
   "metadata": {},
   "source": [
    "## Analyse des données"
   ]
  },
  {
   "cell_type": "markdown",
   "id": "excess-fundamentals",
   "metadata": {},
   "source": [
    "### Affichez la taille des participants"
   ]
  },
  {
   "cell_type": "code",
   "execution_count": 18,
   "id": "distinguished-moldova",
   "metadata": {},
   "outputs": [
    {
     "data": {
      "text/plain": [
       "name\n",
       "simon       175\n",
       "clara       167\n",
       "serge       181\n",
       "claire      174\n",
       "patrick     172\n",
       "julie       168\n",
       "paul        185\n",
       "jeanne      172\n",
       "baptiste    178\n",
       "mathilde    168\n",
       "bob         186\n",
       "elise       159\n",
       "Name: size, dtype: int64"
      ]
     },
     "execution_count": 18,
     "metadata": {},
     "output_type": "execute_result"
    }
   ],
   "source": [
    "people[\"size\"]"
   ]
  },
  {
   "cell_type": "markdown",
   "id": "developed-willow",
   "metadata": {},
   "source": [
    "### Affichez toutes les infos sur Claire\n",
    "\n",
    "Pour sélectionner une ou plusieurs lignes (ici `claire`), il faut utiliser l'opérateur `.loc` :"
   ]
  },
  {
   "cell_type": "code",
   "execution_count": 19,
   "id": "wicked-condition",
   "metadata": {},
   "outputs": [
    {
     "data": {
      "text/plain": [
       "sex     female\n",
       "size       174\n",
       "age         31\n",
       "Name: claire, dtype: object"
      ]
     },
     "execution_count": 19,
     "metadata": {},
     "output_type": "execute_result"
    }
   ],
   "source": [
    "people.loc[\"claire\"]"
   ]
  },
  {
   "cell_type": "markdown",
   "id": "accomplished-arbor",
   "metadata": {},
   "source": [
    "### Déterminez la taille de Claire"
   ]
  },
  {
   "cell_type": "code",
   "execution_count": 20,
   "id": "surprised-capture",
   "metadata": {},
   "outputs": [
    {
     "data": {
      "text/plain": [
       "174"
      ]
     },
     "execution_count": 20,
     "metadata": {},
     "output_type": "execute_result"
    }
   ],
   "source": [
    "people.loc[\"claire\", \"size\"]"
   ]
  },
  {
   "cell_type": "markdown",
   "id": "automated-costa",
   "metadata": {},
   "source": [
    "On peut aussi écrire :"
   ]
  },
  {
   "cell_type": "code",
   "execution_count": 21,
   "id": "athletic-overview",
   "metadata": {},
   "outputs": [
    {
     "data": {
      "text/plain": [
       "174"
      ]
     },
     "execution_count": 21,
     "metadata": {},
     "output_type": "execute_result"
    }
   ],
   "source": [
    "people.loc[\"claire\"][\"size\"]"
   ]
  },
  {
   "cell_type": "markdown",
   "id": "bottom-knight",
   "metadata": {},
   "source": [
    "La première écriture `people.loc[\"claire\", \"size\"]` est cependant plus compacte.\n",
    "\n",
    "### Déterminez l'âge de Baptiste."
   ]
  },
  {
   "cell_type": "code",
   "execution_count": 22,
   "id": "theoretical-butler",
   "metadata": {},
   "outputs": [
    {
     "data": {
      "text/plain": [
       "39"
      ]
     },
     "execution_count": 22,
     "metadata": {},
     "output_type": "execute_result"
    }
   ],
   "source": [
    "people.loc[\"baptiste\", \"age\"]"
   ]
  },
  {
   "cell_type": "markdown",
   "id": "impressed-mongolia",
   "metadata": {},
   "source": [
    "### Affichez, en une seule commande, l'âge de Paul et Bob."
   ]
  },
  {
   "cell_type": "code",
   "execution_count": 23,
   "id": "stopped-power",
   "metadata": {},
   "outputs": [
    {
     "data": {
      "text/plain": [
       "name\n",
       "paul    29\n",
       "bob     33\n",
       "Name: age, dtype: int64"
      ]
     },
     "execution_count": 23,
     "metadata": {},
     "output_type": "execute_result"
    }
   ],
   "source": [
    "people.loc[[\"paul\", \"bob\"], \"age\"]"
   ]
  },
  {
   "cell_type": "markdown",
   "id": "certified-discrimination",
   "metadata": {},
   "source": [
    "Les deux lignes sont indiquées ici sous forme d'une liste.\n",
    "\n",
    "### Déterminez la moyenne et la valeur minimale de la taille et l'âge des individus.\n",
    "\n",
    "Toujours avec une liste de noms de colonnes, on peut sélectionner plusieurs listes :"
   ]
  },
  {
   "cell_type": "code",
   "execution_count": 24,
   "id": "colonial-cooper",
   "metadata": {},
   "outputs": [
    {
     "data": {
      "text/plain": [
       "size    173.750000\n",
       "age      42.333333\n",
       "dtype: float64"
      ]
     },
     "execution_count": 24,
     "metadata": {},
     "output_type": "execute_result"
    }
   ],
   "source": [
    "people[[\"size\", \"age\"]].mean()"
   ]
  },
  {
   "cell_type": "code",
   "execution_count": 25,
   "id": "turned-cursor",
   "metadata": {},
   "outputs": [
    {
     "data": {
      "text/plain": [
       "size    159\n",
       "age      29\n",
       "dtype: int64"
      ]
     },
     "execution_count": 25,
     "metadata": {},
     "output_type": "execute_result"
    }
   ],
   "source": [
    "people[[\"size\", \"age\"]].min()"
   ]
  },
  {
   "cell_type": "markdown",
   "id": "authentic-sunglasses",
   "metadata": {},
   "source": [
    "### Comptez ensuite le nombre de personnes de chaque sexe.\n",
    "\n",
    "On utilise ici la méthode `.value_counts()` :"
   ]
  },
  {
   "cell_type": "code",
   "execution_count": 26,
   "id": "continent-installation",
   "metadata": {},
   "outputs": [
    {
     "data": {
      "text/plain": [
       "female    6\n",
       "male      6\n",
       "Name: sex, dtype: int64"
      ]
     },
     "execution_count": 26,
     "metadata": {},
     "output_type": "execute_result"
    }
   ],
   "source": [
    "people[\"sex\"].value_counts()"
   ]
  },
  {
   "cell_type": "markdown",
   "id": "correct-knight",
   "metadata": {},
   "source": [
    "Le jeu de données comprend donc 6 femmes et 6 hommes.\n",
    "\n",
    "### Déterminez, la taille et l'âge moyen chez les hommes et les femmes. \n",
    "\n",
    "Utilisez pour cela la méthode `.groupby()`."
   ]
  },
  {
   "cell_type": "code",
   "execution_count": 27,
   "id": "published-orlando",
   "metadata": {},
   "outputs": [
    {
     "data": {
      "text/html": [
       "<div>\n",
       "<style scoped>\n",
       "    .dataframe tbody tr th:only-of-type {\n",
       "        vertical-align: middle;\n",
       "    }\n",
       "\n",
       "    .dataframe tbody tr th {\n",
       "        vertical-align: top;\n",
       "    }\n",
       "\n",
       "    .dataframe thead th {\n",
       "        text-align: right;\n",
       "    }\n",
       "</style>\n",
       "<table border=\"1\" class=\"dataframe\">\n",
       "  <thead>\n",
       "    <tr style=\"text-align: right;\">\n",
       "      <th></th>\n",
       "      <th>size</th>\n",
       "      <th>age</th>\n",
       "    </tr>\n",
       "    <tr>\n",
       "      <th>sex</th>\n",
       "      <th></th>\n",
       "      <th></th>\n",
       "    </tr>\n",
       "  </thead>\n",
       "  <tbody>\n",
       "    <tr>\n",
       "      <th>female</th>\n",
       "      <td>168.0</td>\n",
       "      <td>46.333333</td>\n",
       "    </tr>\n",
       "    <tr>\n",
       "      <th>male</th>\n",
       "      <td>179.5</td>\n",
       "      <td>38.333333</td>\n",
       "    </tr>\n",
       "  </tbody>\n",
       "</table>\n",
       "</div>"
      ],
      "text/plain": [
       "         size        age\n",
       "sex                     \n",
       "female  168.0  46.333333\n",
       "male    179.5  38.333333"
      ]
     },
     "execution_count": 27,
     "metadata": {},
     "output_type": "execute_result"
    }
   ],
   "source": [
    "people.groupby(\"sex\")[[\"size\", \"age\"]].mean()"
   ]
  },
  {
   "cell_type": "markdown",
   "id": "unnecessary-geography",
   "metadata": {},
   "source": [
    "On spécifie d'abord sur quelle colonne faire le regroupement `.groupby(\"sex\")`, puis on sélectionne les colonnes qui nous intéresse `[[\"size\", \"age\"]]` et enfin on calcule la moyenne avec `.mean()`\n",
    "\n",
    "### Déterminez combien de d'individus mesurent plus de 1,80 m\n",
    "\n",
    "On peut d'abord exécuter la condition qui renvoie un résultat bouléen (`True` ou `False`) :"
   ]
  },
  {
   "cell_type": "code",
   "execution_count": 28,
   "id": "fundamental-dividend",
   "metadata": {},
   "outputs": [
    {
     "data": {
      "text/plain": [
       "name\n",
       "simon       False\n",
       "clara       False\n",
       "serge        True\n",
       "claire      False\n",
       "patrick     False\n",
       "julie       False\n",
       "paul         True\n",
       "jeanne      False\n",
       "baptiste    False\n",
       "mathilde    False\n",
       "bob          True\n",
       "elise       False\n",
       "Name: size, dtype: bool"
      ]
     },
     "execution_count": 28,
     "metadata": {},
     "output_type": "execute_result"
    }
   ],
   "source": [
    "people[\"size\"] > 180"
   ]
  },
  {
   "cell_type": "markdown",
   "id": "automated-submission",
   "metadata": {},
   "source": [
    "Ce résultat n'est pas très pratique car on souhaite afficher uniquement les individus de plus de 1,80 m.\n",
    "\n",
    "On peut utiliser cette condition directement dans l'appel du *dataframe* :"
   ]
  },
  {
   "cell_type": "code",
   "execution_count": 29,
   "id": "considerable-acting",
   "metadata": {},
   "outputs": [
    {
     "data": {
      "text/html": [
       "<div>\n",
       "<style scoped>\n",
       "    .dataframe tbody tr th:only-of-type {\n",
       "        vertical-align: middle;\n",
       "    }\n",
       "\n",
       "    .dataframe tbody tr th {\n",
       "        vertical-align: top;\n",
       "    }\n",
       "\n",
       "    .dataframe thead th {\n",
       "        text-align: right;\n",
       "    }\n",
       "</style>\n",
       "<table border=\"1\" class=\"dataframe\">\n",
       "  <thead>\n",
       "    <tr style=\"text-align: right;\">\n",
       "      <th></th>\n",
       "      <th>sex</th>\n",
       "      <th>size</th>\n",
       "      <th>age</th>\n",
       "    </tr>\n",
       "    <tr>\n",
       "      <th>name</th>\n",
       "      <th></th>\n",
       "      <th></th>\n",
       "      <th></th>\n",
       "    </tr>\n",
       "  </thead>\n",
       "  <tbody>\n",
       "    <tr>\n",
       "      <th>serge</th>\n",
       "      <td>male</td>\n",
       "      <td>181</td>\n",
       "      <td>44</td>\n",
       "    </tr>\n",
       "    <tr>\n",
       "      <th>paul</th>\n",
       "      <td>male</td>\n",
       "      <td>185</td>\n",
       "      <td>29</td>\n",
       "    </tr>\n",
       "    <tr>\n",
       "      <th>bob</th>\n",
       "      <td>male</td>\n",
       "      <td>186</td>\n",
       "      <td>33</td>\n",
       "    </tr>\n",
       "  </tbody>\n",
       "</table>\n",
       "</div>"
      ],
      "text/plain": [
       "        sex  size  age\n",
       "name                  \n",
       "serge  male   181   44\n",
       "paul   male   185   29\n",
       "bob    male   186   33"
      ]
     },
     "execution_count": 29,
     "metadata": {},
     "output_type": "execute_result"
    }
   ],
   "source": [
    "people[ people[\"size\"] > 180 ]"
   ]
  },
  {
   "cell_type": "markdown",
   "id": "developmental-plastic",
   "metadata": {},
   "source": [
    "### Quelle femme a moins de 35 ans ?\n",
    "\n",
    "On peut combiner deux conditions :"
   ]
  },
  {
   "cell_type": "code",
   "execution_count": 30,
   "id": "nonprofit-vector",
   "metadata": {},
   "outputs": [
    {
     "data": {
      "text/plain": [
       "name\n",
       "simon       False\n",
       "clara       False\n",
       "serge       False\n",
       "claire       True\n",
       "patrick     False\n",
       "julie       False\n",
       "paul        False\n",
       "jeanne      False\n",
       "baptiste    False\n",
       "mathilde    False\n",
       "bob         False\n",
       "elise       False\n",
       "dtype: bool"
      ]
     },
     "execution_count": 30,
     "metadata": {},
     "output_type": "execute_result"
    }
   ],
   "source": [
    "(people[\"sex\"] == \"female\") & (people[\"age\"] < 35)"
   ]
  },
  {
   "cell_type": "markdown",
   "id": "assigned-music",
   "metadata": {},
   "source": [
    "Et afficher uniquement les individus qui répondent aux deux conditions : "
   ]
  },
  {
   "cell_type": "code",
   "execution_count": 31,
   "id": "after-honor",
   "metadata": {},
   "outputs": [
    {
     "data": {
      "text/html": [
       "<div>\n",
       "<style scoped>\n",
       "    .dataframe tbody tr th:only-of-type {\n",
       "        vertical-align: middle;\n",
       "    }\n",
       "\n",
       "    .dataframe tbody tr th {\n",
       "        vertical-align: top;\n",
       "    }\n",
       "\n",
       "    .dataframe thead th {\n",
       "        text-align: right;\n",
       "    }\n",
       "</style>\n",
       "<table border=\"1\" class=\"dataframe\">\n",
       "  <thead>\n",
       "    <tr style=\"text-align: right;\">\n",
       "      <th></th>\n",
       "      <th>sex</th>\n",
       "      <th>size</th>\n",
       "      <th>age</th>\n",
       "    </tr>\n",
       "    <tr>\n",
       "      <th>name</th>\n",
       "      <th></th>\n",
       "      <th></th>\n",
       "      <th></th>\n",
       "    </tr>\n",
       "  </thead>\n",
       "  <tbody>\n",
       "    <tr>\n",
       "      <th>claire</th>\n",
       "      <td>female</td>\n",
       "      <td>174</td>\n",
       "      <td>31</td>\n",
       "    </tr>\n",
       "  </tbody>\n",
       "</table>\n",
       "</div>"
      ],
      "text/plain": [
       "           sex  size  age\n",
       "name                     \n",
       "claire  female   174   31"
      ]
     },
     "execution_count": 31,
     "metadata": {},
     "output_type": "execute_result"
    }
   ],
   "source": [
    "people[ (people[\"sex\"] == \"female\") & (people[\"age\"] < 35) ]"
   ]
  },
  {
   "cell_type": "markdown",
   "id": "embedded-reviewer",
   "metadata": {},
   "source": [
    "### Déterminez l'âge moyen des individus qui mesurent plus de 1,80 m.\n",
    "\n",
    "On sélectionne d'abord les individus qui mesurent plus de 1,80 m :"
   ]
  },
  {
   "cell_type": "code",
   "execution_count": 32,
   "id": "opened-glenn",
   "metadata": {},
   "outputs": [
    {
     "data": {
      "text/html": [
       "<div>\n",
       "<style scoped>\n",
       "    .dataframe tbody tr th:only-of-type {\n",
       "        vertical-align: middle;\n",
       "    }\n",
       "\n",
       "    .dataframe tbody tr th {\n",
       "        vertical-align: top;\n",
       "    }\n",
       "\n",
       "    .dataframe thead th {\n",
       "        text-align: right;\n",
       "    }\n",
       "</style>\n",
       "<table border=\"1\" class=\"dataframe\">\n",
       "  <thead>\n",
       "    <tr style=\"text-align: right;\">\n",
       "      <th></th>\n",
       "      <th>sex</th>\n",
       "      <th>size</th>\n",
       "      <th>age</th>\n",
       "    </tr>\n",
       "    <tr>\n",
       "      <th>name</th>\n",
       "      <th></th>\n",
       "      <th></th>\n",
       "      <th></th>\n",
       "    </tr>\n",
       "  </thead>\n",
       "  <tbody>\n",
       "    <tr>\n",
       "      <th>serge</th>\n",
       "      <td>male</td>\n",
       "      <td>181</td>\n",
       "      <td>44</td>\n",
       "    </tr>\n",
       "    <tr>\n",
       "      <th>paul</th>\n",
       "      <td>male</td>\n",
       "      <td>185</td>\n",
       "      <td>29</td>\n",
       "    </tr>\n",
       "    <tr>\n",
       "      <th>bob</th>\n",
       "      <td>male</td>\n",
       "      <td>186</td>\n",
       "      <td>33</td>\n",
       "    </tr>\n",
       "  </tbody>\n",
       "</table>\n",
       "</div>"
      ],
      "text/plain": [
       "        sex  size  age\n",
       "name                  \n",
       "serge  male   181   44\n",
       "paul   male   185   29\n",
       "bob    male   186   33"
      ]
     },
     "execution_count": 32,
     "metadata": {},
     "output_type": "execute_result"
    }
   ],
   "source": [
    "people[ people[\"size\"] > 180 ]"
   ]
  },
  {
   "cell_type": "markdown",
   "id": "executive-mineral",
   "metadata": {},
   "source": [
    "Puis on sélectionne l'âge et calcule la moyenne :"
   ]
  },
  {
   "cell_type": "code",
   "execution_count": 33,
   "id": "auburn-respondent",
   "metadata": {},
   "outputs": [
    {
     "data": {
      "text/plain": [
       "35.333333333333336"
      ]
     },
     "execution_count": 33,
     "metadata": {},
     "output_type": "execute_result"
    }
   ],
   "source": [
    "people[ people[\"size\"] > 180 ][\"age\"].mean()"
   ]
  },
  {
   "cell_type": "markdown",
   "id": "neutral-indie",
   "metadata": {},
   "source": [
    "### Déterminez la taille maximale des femmes qui ont plus de 35 ans."
   ]
  },
  {
   "cell_type": "code",
   "execution_count": 34,
   "id": "superb-promotion",
   "metadata": {},
   "outputs": [
    {
     "data": {
      "text/plain": [
       "172"
      ]
     },
     "execution_count": 34,
     "metadata": {},
     "output_type": "execute_result"
    }
   ],
   "source": [
    "people[ (people[\"sex\"] == \"female\") & (people[\"age\"] > 35)  ][\"size\"].max()"
   ]
  },
  {
   "cell_type": "markdown",
   "id": "structured-nickel",
   "metadata": {},
   "source": [
    "## Des graphiques"
   ]
  },
  {
   "cell_type": "code",
   "execution_count": 35,
   "id": "wooden-procedure",
   "metadata": {},
   "outputs": [],
   "source": [
    "import matplotlib.pyplot as plt\n",
    "\n",
    "%matplotlib inline"
   ]
  },
  {
   "cell_type": "code",
   "execution_count": 36,
   "id": "compressed-poverty",
   "metadata": {},
   "outputs": [
    {
     "data": {
      "image/png": "[encoded data removed]",
      "text/plain": [
       "<Figure size 432x288 with 1 Axes>"
      ]
     },
     "metadata": {
      "needs_background": "light"
     },
     "output_type": "display_data"
    }
   ],
   "source": [
    "plt.scatter(people[\"age\"], people[\"size\"], color=\"green\", marker=\"o\", s=50)\n",
    "plt.xlabel(\"Age (années)\")\n",
    "plt.ylabel(\"Taille (cm)\");"
   ]
  },
  {
   "cell_type": "code",
   "execution_count": 37,
   "id": "active-anderson",
   "metadata": {},
   "outputs": [
    {
     "data": {
      "text/html": [
       "<div>\n",
       "<style scoped>\n",
       "    .dataframe tbody tr th:only-of-type {\n",
       "        vertical-align: middle;\n",
       "    }\n",
       "\n",
       "    .dataframe tbody tr th {\n",
       "        vertical-align: top;\n",
       "    }\n",
       "\n",
       "    .dataframe thead th {\n",
       "        text-align: right;\n",
       "    }\n",
       "</style>\n",
       "<table border=\"1\" class=\"dataframe\">\n",
       "  <thead>\n",
       "    <tr style=\"text-align: right;\">\n",
       "      <th></th>\n",
       "      <th>size</th>\n",
       "      <th>age</th>\n",
       "    </tr>\n",
       "    <tr>\n",
       "      <th>sex</th>\n",
       "      <th></th>\n",
       "      <th></th>\n",
       "    </tr>\n",
       "  </thead>\n",
       "  <tbody>\n",
       "    <tr>\n",
       "      <th>female</th>\n",
       "      <td>168.0</td>\n",
       "      <td>46.333333</td>\n",
       "    </tr>\n",
       "    <tr>\n",
       "      <th>male</th>\n",
       "      <td>179.5</td>\n",
       "      <td>38.333333</td>\n",
       "    </tr>\n",
       "  </tbody>\n",
       "</table>\n",
       "</div>"
      ],
      "text/plain": [
       "         size        age\n",
       "sex                     \n",
       "female  168.0  46.333333\n",
       "male    179.5  38.333333"
      ]
     },
     "execution_count": 37,
     "metadata": {},
     "output_type": "execute_result"
    }
   ],
   "source": [
    "people.groupby(\"sex\").mean()"
   ]
  },
  {
   "cell_type": "code",
   "execution_count": 38,
   "id": "organized-large",
   "metadata": {},
   "outputs": [
    {
     "data": {
      "image/png": "[encoded data removed]",
      "text/plain": [
       "<Figure size 432x288 with 1 Axes>"
      ]
     },
     "metadata": {
      "needs_background": "light"
     },
     "output_type": "display_data"
    }
   ],
   "source": [
    "plt.bar(people.groupby(\"sex\").mean().index, \n",
    "        people.groupby(\"sex\").mean()[\"age\"].values,\n",
    "        width=0.5, color=\"dodgerblue\")\n",
    "plt.xlabel(\"Sexe\")\n",
    "plt.ylabel(\"Age moyen (années)\");"
   ]
  },
  {
   "cell_type": "code",
   "execution_count": 39,
   "id": "treated-turkish",
   "metadata": {},
   "outputs": [
    {
     "data": {
      "image/png": "[encoded data removed]",
      "text/plain": [
       "<Figure size 432x288 with 1 Axes>"
      ]
     },
     "metadata": {
      "needs_background": "light"
     },
     "output_type": "display_data"
    }
   ],
   "source": [
    "plt.bar(people.groupby(\"sex\").mean().index, \n",
    "        people.groupby(\"sex\").mean()[\"size\"].values,\n",
    "        width=0.5, color=\"moccasin\")\n",
    "plt.xlabel(\"Sexe\")\n",
    "plt.ylabel(\"Taille moyenne (cm)\");"
   ]
  }
 ],
 "metadata": {
  "kernelspec": {
   "display_name": "Python 3",
   "language": "python",
   "name": "python3"
  },
  "language_info": {
   "codemirror_mode": {
    "name": "ipython",
    "version": 3
   },
   "file_extension": ".py",
   "mimetype": "text/x-python",
   "name": "python",
   "nbconvert_exporter": "python",
   "pygments_lexer": "ipython3",
   "version": "3.7.10"
  }
 },
 "nbformat": 4,
 "nbformat_minor": 5
}
