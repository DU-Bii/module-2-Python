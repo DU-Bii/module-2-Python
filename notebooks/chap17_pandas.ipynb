{
 "cells": [
  {
   "cell_type": "markdown",
   "id": "automotive-crowd",
   "metadata": {},
   "source": [
    "# Pandas\n",
    "\n",
    "Bibliothèque de manipulation de tableau (*dataframe*).\n",
    "\n",
    "Très performante pour l'analyse de données.\n",
    "\n",
    "![](https://cdn.pixabay.com/photo/2018/12/05/13/41/panda-3857754_960_720.jpg)\n",
    "## Chargement du module"
   ]
  },
  {
   "cell_type": "code",
   "execution_count": null,
   "id": "ambient-delta",
   "metadata": {},
   "outputs": [],
   "source": []
  },
  {
   "cell_type": "markdown",
   "id": "balanced-jewel",
   "metadata": {},
   "source": [
    "## Créer des données"
   ]
  },
  {
   "cell_type": "code",
   "execution_count": null,
   "id": "vocal-probe",
   "metadata": {},
   "outputs": [],
   "source": [
    "import numpy as np"
   ]
  },
  {
   "cell_type": "markdown",
   "id": "linear-trace",
   "metadata": {},
   "source": [
    "Par lignes :"
   ]
  },
  {
   "cell_type": "code",
   "execution_count": null,
   "id": "planned-roots",
   "metadata": {},
   "outputs": [],
   "source": [
    "df = pd.DataFrame(columns=[\"a\", \"b\", \"c\", \"d\"],\n",
    "                  index=[\"chat\", \"singe\", \"souris\"],\n",
    "                  data=[np.arange(10, 14),\n",
    "                        np.arange(20, 24),\n",
    "                        np.arange(30, 34)])"
   ]
  },
  {
   "cell_type": "code",
   "execution_count": null,
   "id": "severe-sword",
   "metadata": {},
   "outputs": [],
   "source": [
    "df"
   ]
  },
  {
   "cell_type": "markdown",
   "id": "thrown-candy",
   "metadata": {},
   "source": [
    "Par colonnes :"
   ]
  },
  {
   "cell_type": "code",
   "execution_count": null,
   "id": "increasing-narrative",
   "metadata": {},
   "outputs": [],
   "source": [
    "data = {\"a\": np.arange(10, 40, 10),\n",
    "        \"b\": np.arange(11, 40, 10),\n",
    "        \"c\": np.arange(12, 40, 10),\n",
    "        \"d\": np.arange(13, 40, 10)}\n",
    "\n",
    "df = pd.DataFrame(data)\n",
    "\n",
    "df.index = [\"chat\", \"singe\", \"souris\"]\n",
    "\n",
    "df"
   ]
  },
  {
   "cell_type": "markdown",
   "id": "serial-security",
   "metadata": {},
   "source": [
    "## Charger un jeu de données existant"
   ]
  },
  {
   "cell_type": "code",
   "execution_count": null,
   "id": "dirty-seminar",
   "metadata": {},
   "outputs": [],
   "source": [
    "!wget https://python.sdv.univ-paris-diderot.fr/data-files/people.tsv"
   ]
  },
  {
   "cell_type": "markdown",
   "id": "adjusted-portugal",
   "metadata": {},
   "source": [
    "Chargement du jeu de données avec la fonction `.read_csv()` :"
   ]
  },
  {
   "cell_type": "code",
   "execution_count": null,
   "id": "familiar-treat",
   "metadata": {},
   "outputs": [],
   "source": [
    "people = "
   ]
  },
  {
   "cell_type": "code",
   "execution_count": null,
   "id": "attempted-underground",
   "metadata": {},
   "outputs": [],
   "source": [
    "people"
   ]
  },
  {
   "cell_type": "markdown",
   "id": "manufactured-congo",
   "metadata": {},
   "source": [
    "Chargement du jeu de données en spécifiant l'index :"
   ]
  },
  {
   "cell_type": "code",
   "execution_count": null,
   "id": "large-kidney",
   "metadata": {},
   "outputs": [],
   "source": [
    "people = "
   ]
  },
  {
   "cell_type": "code",
   "execution_count": null,
   "id": "composite-period",
   "metadata": {},
   "outputs": [],
   "source": [
    "people"
   ]
  },
  {
   "cell_type": "markdown",
   "id": "empirical-material",
   "metadata": {},
   "source": [
    "### Exploration des données"
   ]
  },
  {
   "cell_type": "code",
   "execution_count": null,
   "id": "herbal-islam",
   "metadata": {},
   "outputs": [],
   "source": [
    "people.head()"
   ]
  },
  {
   "cell_type": "code",
   "execution_count": null,
   "id": "visible-personality",
   "metadata": {},
   "outputs": [],
   "source": [
    "people.tail()"
   ]
  },
  {
   "cell_type": "code",
   "execution_count": null,
   "id": "oriental-technician",
   "metadata": {},
   "outputs": [],
   "source": [
    "people.shape"
   ]
  },
  {
   "cell_type": "code",
   "execution_count": null,
   "id": "unlike-literacy",
   "metadata": {},
   "outputs": [],
   "source": [
    "people.dtypes"
   ]
  },
  {
   "cell_type": "code",
   "execution_count": null,
   "id": "incident-programmer",
   "metadata": {},
   "outputs": [],
   "source": [
    "people.info(memory_usage=\"deep\")"
   ]
  },
  {
   "cell_type": "code",
   "execution_count": null,
   "id": "massive-episode",
   "metadata": {},
   "outputs": [],
   "source": [
    "people.describe()"
   ]
  },
  {
   "cell_type": "markdown",
   "id": "welsh-ecology",
   "metadata": {},
   "source": [
    "### Analyse des données"
   ]
  },
  {
   "cell_type": "markdown",
   "id": "offensive-suicide",
   "metadata": {},
   "source": [
    "Affichez la taille des participants"
   ]
  },
  {
   "cell_type": "code",
   "execution_count": null,
   "id": "looking-delicious",
   "metadata": {},
   "outputs": [],
   "source": []
  },
  {
   "cell_type": "markdown",
   "id": "synthetic-violence",
   "metadata": {},
   "source": [
    "Affichez toutes les infos sur Claire"
   ]
  },
  {
   "cell_type": "code",
   "execution_count": null,
   "id": "banner-papua",
   "metadata": {},
   "outputs": [],
   "source": []
  },
  {
   "cell_type": "markdown",
   "id": "hybrid-warrant",
   "metadata": {},
   "source": [
    "Déterminez la taille de Claire"
   ]
  },
  {
   "cell_type": "code",
   "execution_count": null,
   "id": "cognitive-senegal",
   "metadata": {},
   "outputs": [],
   "source": []
  },
  {
   "cell_type": "markdown",
   "id": "driven-minute",
   "metadata": {},
   "source": [
    "Déterminez l'âge de Baptiste."
   ]
  },
  {
   "cell_type": "code",
   "execution_count": null,
   "id": "cutting-judges",
   "metadata": {},
   "outputs": [],
   "source": []
  },
  {
   "cell_type": "markdown",
   "id": "dependent-industry",
   "metadata": {},
   "source": [
    "Affichez, en une seule commande, l'âge de Paul et Bob."
   ]
  },
  {
   "cell_type": "code",
   "execution_count": null,
   "id": "relevant-excuse",
   "metadata": {},
   "outputs": [],
   "source": []
  },
  {
   "cell_type": "markdown",
   "id": "structured-township",
   "metadata": {},
   "source": [
    "Déterminez la moyenne et la valeur minimale de la taille et l'âge des individus."
   ]
  },
  {
   "cell_type": "code",
   "execution_count": null,
   "id": "requested-photography",
   "metadata": {},
   "outputs": [],
   "source": []
  },
  {
   "cell_type": "code",
   "execution_count": null,
   "id": "miniature-fault",
   "metadata": {},
   "outputs": [],
   "source": []
  },
  {
   "cell_type": "markdown",
   "id": "liked-overall",
   "metadata": {},
   "source": [
    "Comptez ensuite le nombre de personnes de chaque sexe."
   ]
  },
  {
   "cell_type": "code",
   "execution_count": null,
   "id": "quality-treasury",
   "metadata": {},
   "outputs": [],
   "source": []
  },
  {
   "cell_type": "markdown",
   "id": "turned-tsunami",
   "metadata": {},
   "source": [
    "Déterminez, la taille et l'âge moyen chez les hommes et les femmes. Utilisez pour cela la méthode `.groupby()`."
   ]
  },
  {
   "cell_type": "code",
   "execution_count": null,
   "id": "young-discharge",
   "metadata": {},
   "outputs": [],
   "source": []
  },
  {
   "cell_type": "markdown",
   "id": "usual-hearts",
   "metadata": {},
   "source": [
    "Déterminez combien de d'individus mesurent plus de 1,80 m."
   ]
  },
  {
   "cell_type": "code",
   "execution_count": null,
   "id": "olympic-textbook",
   "metadata": {},
   "outputs": [],
   "source": []
  },
  {
   "cell_type": "markdown",
   "id": "blind-civilization",
   "metadata": {},
   "source": [
    "Quelle femme a moins de 35 ans ?"
   ]
  },
  {
   "cell_type": "code",
   "execution_count": null,
   "id": "capable-battlefield",
   "metadata": {},
   "outputs": [],
   "source": []
  },
  {
   "cell_type": "markdown",
   "id": "noble-walker",
   "metadata": {},
   "source": [
    "Déterminez l'âge moyen des individus qui mesurent plus de 1,80 m."
   ]
  },
  {
   "cell_type": "code",
   "execution_count": null,
   "id": "congressional-option",
   "metadata": {},
   "outputs": [],
   "source": []
  },
  {
   "cell_type": "markdown",
   "id": "german-electron",
   "metadata": {},
   "source": [
    "Déterminez la taille maximale des femmes qui ont plus de 35 ans."
   ]
  },
  {
   "cell_type": "code",
   "execution_count": null,
   "id": "polyphonic-turkey",
   "metadata": {},
   "outputs": [],
   "source": []
  },
  {
   "cell_type": "markdown",
   "id": "tested-rally",
   "metadata": {},
   "source": [
    "## Des graphiques"
   ]
  },
  {
   "cell_type": "code",
   "execution_count": null,
   "id": "republican-selling",
   "metadata": {},
   "outputs": [],
   "source": [
    "import matplotlib.pyplot as plt"
   ]
  },
  {
   "cell_type": "code",
   "execution_count": null,
   "id": "stable-blanket",
   "metadata": {},
   "outputs": [],
   "source": [
    "plt.scatter(people[\"age\"], people[\"size\"], color=\"green\", marker=\"o\", s=50)\n",
    "plt.xlabel(\"Age (années)\")\n",
    "plt.ylabel(\"Taille (cm)\");"
   ]
  },
  {
   "cell_type": "code",
   "execution_count": null,
   "id": "effective-shirt",
   "metadata": {},
   "outputs": [],
   "source": [
    "people.groupby(\"sex\").mean()"
   ]
  },
  {
   "cell_type": "code",
   "execution_count": null,
   "id": "complete-switch",
   "metadata": {},
   "outputs": [],
   "source": [
    "plt.bar(people.groupby(\"sex\").mean().index, \n",
    "        people.groupby(\"sex\").mean()[\"age\"].values)\n",
    "plt.xlabel(\"Sexe\")\n",
    "plt.ylabel(\"Age moyen (années)\");"
   ]
  },
  {
   "cell_type": "code",
   "execution_count": null,
   "id": "billion-invitation",
   "metadata": {},
   "outputs": [],
   "source": [
    "plt.bar(people.groupby(\"sex\").mean().index, \n",
    "        people.groupby(\"sex\").mean()[\"size\"].values)\n",
    "plt.xlabel(\"Sexe\")\n",
    "plt.ylabel(\"Taille moyenne (cm)\");"
   ]
  },
  {
   "cell_type": "code",
   "execution_count": null,
   "id": "associate-instruction",
   "metadata": {},
   "outputs": [],
   "source": []
  }
 ],
 "metadata": {
  "kernelspec": {
   "display_name": "Python 3",
   "language": "python",
   "name": "python3"
  },
  "language_info": {
   "codemirror_mode": {
    "name": "ipython",
    "version": 3
   },
   "file_extension": ".py",
   "mimetype": "text/x-python",
   "name": "python",
   "nbconvert_exporter": "python",
   "pygments_lexer": "ipython3",
   "version": "3.7.9"
  }
 },
 "nbformat": 4,
 "nbformat_minor": 5
}
