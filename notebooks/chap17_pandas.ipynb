{
 "cells": [
  {
   "cell_type": "markdown",
   "id": "informed-barbados",
   "metadata": {},
   "source": [
    "# Pandas\n",
    "\n",
    "- Bibliothèque de manipulation de tableau (*dataframe*).\n",
    "- Très performance pour l'analyse de données.\n",
    "\n",
    "## Chargement du module"
   ]
  },
  {
   "cell_type": "code",
   "execution_count": 2,
   "id": "catholic-house",
   "metadata": {},
   "outputs": [],
   "source": [
    "import pandas as pd"
   ]
  },
  {
   "cell_type": "markdown",
   "id": "assigned-toyota",
   "metadata": {},
   "source": [
    "## Créer des données"
   ]
  },
  {
   "cell_type": "code",
   "execution_count": 4,
   "id": "supreme-cannon",
   "metadata": {},
   "outputs": [],
   "source": [
    "import numpy as np"
   ]
  },
  {
   "cell_type": "code",
   "execution_count": 5,
   "id": "reported-compiler",
   "metadata": {},
   "outputs": [],
   "source": [
    "df = pd.DataFrame(columns=[\"a\", \"b\", \"c\", \"d\"],\n",
    "                  index=[\"chat\", \"singe\", \"souris\"],\n",
    "                  data=[np.arange(10, 14),\n",
    "                        np.arange(20, 24),\n",
    "                        np.arange(30, 34)])"
   ]
  },
  {
   "cell_type": "code",
   "execution_count": 6,
   "id": "fluid-meter",
   "metadata": {},
   "outputs": [
    {
     "data": {
      "text/html": [
       "<div>\n",
       "<style scoped>\n",
       "    .dataframe tbody tr th:only-of-type {\n",
       "        vertical-align: middle;\n",
       "    }\n",
       "\n",
       "    .dataframe tbody tr th {\n",
       "        vertical-align: top;\n",
       "    }\n",
       "\n",
       "    .dataframe thead th {\n",
       "        text-align: right;\n",
       "    }\n",
       "</style>\n",
       "<table border=\"1\" class=\"dataframe\">\n",
       "  <thead>\n",
       "    <tr style=\"text-align: right;\">\n",
       "      <th></th>\n",
       "      <th>a</th>\n",
       "      <th>b</th>\n",
       "      <th>c</th>\n",
       "      <th>d</th>\n",
       "    </tr>\n",
       "  </thead>\n",
       "  <tbody>\n",
       "    <tr>\n",
       "      <th>chat</th>\n",
       "      <td>10</td>\n",
       "      <td>11</td>\n",
       "      <td>12</td>\n",
       "      <td>13</td>\n",
       "    </tr>\n",
       "    <tr>\n",
       "      <th>singe</th>\n",
       "      <td>20</td>\n",
       "      <td>21</td>\n",
       "      <td>22</td>\n",
       "      <td>23</td>\n",
       "    </tr>\n",
       "    <tr>\n",
       "      <th>souris</th>\n",
       "      <td>30</td>\n",
       "      <td>31</td>\n",
       "      <td>32</td>\n",
       "      <td>33</td>\n",
       "    </tr>\n",
       "  </tbody>\n",
       "</table>\n",
       "</div>"
      ],
      "text/plain": [
       "         a   b   c   d\n",
       "chat    10  11  12  13\n",
       "singe   20  21  22  23\n",
       "souris  30  31  32  33"
      ]
     },
     "execution_count": 6,
     "metadata": {},
     "output_type": "execute_result"
    }
   ],
   "source": [
    "df"
   ]
  },
  {
   "cell_type": "code",
   "execution_count": 7,
   "id": "lightweight-child",
   "metadata": {},
   "outputs": [
    {
     "data": {
      "text/html": [
       "<div>\n",
       "<style scoped>\n",
       "    .dataframe tbody tr th:only-of-type {\n",
       "        vertical-align: middle;\n",
       "    }\n",
       "\n",
       "    .dataframe tbody tr th {\n",
       "        vertical-align: top;\n",
       "    }\n",
       "\n",
       "    .dataframe thead th {\n",
       "        text-align: right;\n",
       "    }\n",
       "</style>\n",
       "<table border=\"1\" class=\"dataframe\">\n",
       "  <thead>\n",
       "    <tr style=\"text-align: right;\">\n",
       "      <th></th>\n",
       "      <th>a</th>\n",
       "      <th>b</th>\n",
       "      <th>c</th>\n",
       "      <th>d</th>\n",
       "    </tr>\n",
       "  </thead>\n",
       "  <tbody>\n",
       "    <tr>\n",
       "      <th>chat</th>\n",
       "      <td>10</td>\n",
       "      <td>11</td>\n",
       "      <td>12</td>\n",
       "      <td>13</td>\n",
       "    </tr>\n",
       "    <tr>\n",
       "      <th>singe</th>\n",
       "      <td>20</td>\n",
       "      <td>21</td>\n",
       "      <td>22</td>\n",
       "      <td>23</td>\n",
       "    </tr>\n",
       "    <tr>\n",
       "      <th>souris</th>\n",
       "      <td>30</td>\n",
       "      <td>31</td>\n",
       "      <td>32</td>\n",
       "      <td>33</td>\n",
       "    </tr>\n",
       "  </tbody>\n",
       "</table>\n",
       "</div>"
      ],
      "text/plain": [
       "         a   b   c   d\n",
       "chat    10  11  12  13\n",
       "singe   20  21  22  23\n",
       "souris  30  31  32  33"
      ]
     },
     "execution_count": 7,
     "metadata": {},
     "output_type": "execute_result"
    }
   ],
   "source": [
    "data = {\"a\": np.arange(10, 40, 10),\n",
    "        \"b\": np.arange(11, 40, 10),\n",
    "        \"c\": np.arange(12, 40, 10),\n",
    "        \"d\": np.arange(13, 40, 10)}\n",
    "df = pd.DataFrame.from_dict(data)\n",
    "df.index = [\"chat\", \"singe\", \"souris\"]\n",
    "df"
   ]
  },
  {
   "cell_type": "markdown",
   "id": "auburn-import",
   "metadata": {},
   "source": [
    "## Charger d'un jeu de données existant"
   ]
  },
  {
   "cell_type": "code",
   "execution_count": 9,
   "id": "verified-concord",
   "metadata": {},
   "outputs": [
    {
     "name": "stdout",
     "output_type": "stream",
     "text": [
      "--2021-03-22 15:36:02--  https://python.sdv.univ-paris-diderot.fr/data-files/people.tsv\n",
      "Résolution de python.sdv.univ-paris-diderot.fr (python.sdv.univ-paris-diderot.fr)… 194.254.61.54, 2001:660:3301:8003::54\n",
      "Connexion à python.sdv.univ-paris-diderot.fr (python.sdv.univ-paris-diderot.fr)|194.254.61.54|:443… connecté.\n",
      "requête HTTP transmise, en attente de la réponse… 200 OK\n",
      "Taille : 253 [text/tab-separated-values]\n",
      "Enregistre : «people.tsv.1»\n",
      "\n",
      "people.tsv.1        100%[===================>]     253  --.-KB/s    ds 0s      \n",
      "\n",
      "2021-03-22 15:36:02 (16,2 MB/s) - «people.tsv.1» enregistré [253/253]\n",
      "\n"
     ]
    }
   ],
   "source": [
    "!wget https://python.sdv.univ-paris-diderot.fr/data-files/people.tsv"
   ]
  },
  {
   "cell_type": "code",
   "execution_count": 12,
   "id": "natural-cursor",
   "metadata": {},
   "outputs": [],
   "source": [
    "people = pd.read_csv(\"people.tsv\", sep=\"\\t\")"
   ]
  },
  {
   "cell_type": "code",
   "execution_count": 13,
   "id": "effective-ceremony",
   "metadata": {},
   "outputs": [
    {
     "data": {
      "text/html": [
       "<div>\n",
       "<style scoped>\n",
       "    .dataframe tbody tr th:only-of-type {\n",
       "        vertical-align: middle;\n",
       "    }\n",
       "\n",
       "    .dataframe tbody tr th {\n",
       "        vertical-align: top;\n",
       "    }\n",
       "\n",
       "    .dataframe thead th {\n",
       "        text-align: right;\n",
       "    }\n",
       "</style>\n",
       "<table border=\"1\" class=\"dataframe\">\n",
       "  <thead>\n",
       "    <tr style=\"text-align: right;\">\n",
       "      <th></th>\n",
       "      <th>name</th>\n",
       "      <th>sex</th>\n",
       "      <th>size</th>\n",
       "      <th>age</th>\n",
       "    </tr>\n",
       "  </thead>\n",
       "  <tbody>\n",
       "    <tr>\n",
       "      <th>0</th>\n",
       "      <td>simon</td>\n",
       "      <td>male</td>\n",
       "      <td>175</td>\n",
       "      <td>33</td>\n",
       "    </tr>\n",
       "    <tr>\n",
       "      <th>1</th>\n",
       "      <td>clara</td>\n",
       "      <td>female</td>\n",
       "      <td>167</td>\n",
       "      <td>45</td>\n",
       "    </tr>\n",
       "    <tr>\n",
       "      <th>2</th>\n",
       "      <td>serge</td>\n",
       "      <td>male</td>\n",
       "      <td>181</td>\n",
       "      <td>44</td>\n",
       "    </tr>\n",
       "    <tr>\n",
       "      <th>3</th>\n",
       "      <td>claire</td>\n",
       "      <td>female</td>\n",
       "      <td>174</td>\n",
       "      <td>31</td>\n",
       "    </tr>\n",
       "    <tr>\n",
       "      <th>4</th>\n",
       "      <td>patrick</td>\n",
       "      <td>male</td>\n",
       "      <td>172</td>\n",
       "      <td>52</td>\n",
       "    </tr>\n",
       "    <tr>\n",
       "      <th>5</th>\n",
       "      <td>julie</td>\n",
       "      <td>female</td>\n",
       "      <td>168</td>\n",
       "      <td>37</td>\n",
       "    </tr>\n",
       "    <tr>\n",
       "      <th>6</th>\n",
       "      <td>paul</td>\n",
       "      <td>male</td>\n",
       "      <td>185</td>\n",
       "      <td>29</td>\n",
       "    </tr>\n",
       "    <tr>\n",
       "      <th>7</th>\n",
       "      <td>jeanne</td>\n",
       "      <td>female</td>\n",
       "      <td>172</td>\n",
       "      <td>56</td>\n",
       "    </tr>\n",
       "    <tr>\n",
       "      <th>8</th>\n",
       "      <td>baptiste</td>\n",
       "      <td>male</td>\n",
       "      <td>178</td>\n",
       "      <td>39</td>\n",
       "    </tr>\n",
       "    <tr>\n",
       "      <th>9</th>\n",
       "      <td>mathilde</td>\n",
       "      <td>female</td>\n",
       "      <td>168</td>\n",
       "      <td>46</td>\n",
       "    </tr>\n",
       "    <tr>\n",
       "      <th>10</th>\n",
       "      <td>bob</td>\n",
       "      <td>male</td>\n",
       "      <td>186</td>\n",
       "      <td>33</td>\n",
       "    </tr>\n",
       "    <tr>\n",
       "      <th>11</th>\n",
       "      <td>elise</td>\n",
       "      <td>female</td>\n",
       "      <td>159</td>\n",
       "      <td>63</td>\n",
       "    </tr>\n",
       "  </tbody>\n",
       "</table>\n",
       "</div>"
      ],
      "text/plain": [
       "        name     sex  size  age\n",
       "0      simon    male   175   33\n",
       "1      clara  female   167   45\n",
       "2      serge    male   181   44\n",
       "3     claire  female   174   31\n",
       "4    patrick    male   172   52\n",
       "5      julie  female   168   37\n",
       "6       paul    male   185   29\n",
       "7     jeanne  female   172   56\n",
       "8   baptiste    male   178   39\n",
       "9   mathilde  female   168   46\n",
       "10       bob    male   186   33\n",
       "11     elise  female   159   63"
      ]
     },
     "execution_count": 13,
     "metadata": {},
     "output_type": "execute_result"
    }
   ],
   "source": [
    "people"
   ]
  },
  {
   "cell_type": "code",
   "execution_count": 22,
   "id": "hybrid-delight",
   "metadata": {},
   "outputs": [],
   "source": [
    "people = pd.read_csv(\"people.tsv\", sep=\"\\t\", index_col=\"name\")"
   ]
  },
  {
   "cell_type": "code",
   "execution_count": 23,
   "id": "visible-fundamentals",
   "metadata": {},
   "outputs": [
    {
     "data": {
      "text/html": [
       "<div>\n",
       "<style scoped>\n",
       "    .dataframe tbody tr th:only-of-type {\n",
       "        vertical-align: middle;\n",
       "    }\n",
       "\n",
       "    .dataframe tbody tr th {\n",
       "        vertical-align: top;\n",
       "    }\n",
       "\n",
       "    .dataframe thead th {\n",
       "        text-align: right;\n",
       "    }\n",
       "</style>\n",
       "<table border=\"1\" class=\"dataframe\">\n",
       "  <thead>\n",
       "    <tr style=\"text-align: right;\">\n",
       "      <th></th>\n",
       "      <th>sex</th>\n",
       "      <th>size</th>\n",
       "      <th>age</th>\n",
       "    </tr>\n",
       "    <tr>\n",
       "      <th>name</th>\n",
       "      <th></th>\n",
       "      <th></th>\n",
       "      <th></th>\n",
       "    </tr>\n",
       "  </thead>\n",
       "  <tbody>\n",
       "    <tr>\n",
       "      <th>simon</th>\n",
       "      <td>male</td>\n",
       "      <td>175</td>\n",
       "      <td>33</td>\n",
       "    </tr>\n",
       "    <tr>\n",
       "      <th>clara</th>\n",
       "      <td>female</td>\n",
       "      <td>167</td>\n",
       "      <td>45</td>\n",
       "    </tr>\n",
       "    <tr>\n",
       "      <th>serge</th>\n",
       "      <td>male</td>\n",
       "      <td>181</td>\n",
       "      <td>44</td>\n",
       "    </tr>\n",
       "    <tr>\n",
       "      <th>claire</th>\n",
       "      <td>female</td>\n",
       "      <td>174</td>\n",
       "      <td>31</td>\n",
       "    </tr>\n",
       "    <tr>\n",
       "      <th>patrick</th>\n",
       "      <td>male</td>\n",
       "      <td>172</td>\n",
       "      <td>52</td>\n",
       "    </tr>\n",
       "    <tr>\n",
       "      <th>julie</th>\n",
       "      <td>female</td>\n",
       "      <td>168</td>\n",
       "      <td>37</td>\n",
       "    </tr>\n",
       "    <tr>\n",
       "      <th>paul</th>\n",
       "      <td>male</td>\n",
       "      <td>185</td>\n",
       "      <td>29</td>\n",
       "    </tr>\n",
       "    <tr>\n",
       "      <th>jeanne</th>\n",
       "      <td>female</td>\n",
       "      <td>172</td>\n",
       "      <td>56</td>\n",
       "    </tr>\n",
       "    <tr>\n",
       "      <th>baptiste</th>\n",
       "      <td>male</td>\n",
       "      <td>178</td>\n",
       "      <td>39</td>\n",
       "    </tr>\n",
       "    <tr>\n",
       "      <th>mathilde</th>\n",
       "      <td>female</td>\n",
       "      <td>168</td>\n",
       "      <td>46</td>\n",
       "    </tr>\n",
       "    <tr>\n",
       "      <th>bob</th>\n",
       "      <td>male</td>\n",
       "      <td>186</td>\n",
       "      <td>33</td>\n",
       "    </tr>\n",
       "    <tr>\n",
       "      <th>elise</th>\n",
       "      <td>female</td>\n",
       "      <td>159</td>\n",
       "      <td>63</td>\n",
       "    </tr>\n",
       "  </tbody>\n",
       "</table>\n",
       "</div>"
      ],
      "text/plain": [
       "             sex  size  age\n",
       "name                       \n",
       "simon       male   175   33\n",
       "clara     female   167   45\n",
       "serge       male   181   44\n",
       "claire    female   174   31\n",
       "patrick     male   172   52\n",
       "julie     female   168   37\n",
       "paul        male   185   29\n",
       "jeanne    female   172   56\n",
       "baptiste    male   178   39\n",
       "mathilde  female   168   46\n",
       "bob         male   186   33\n",
       "elise     female   159   63"
      ]
     },
     "execution_count": 23,
     "metadata": {},
     "output_type": "execute_result"
    }
   ],
   "source": [
    "people"
   ]
  },
  {
   "cell_type": "markdown",
   "id": "structural-national",
   "metadata": {},
   "source": [
    "### Exploration des données"
   ]
  },
  {
   "cell_type": "code",
   "execution_count": 24,
   "id": "seeing-particle",
   "metadata": {},
   "outputs": [
    {
     "data": {
      "text/html": [
       "<div>\n",
       "<style scoped>\n",
       "    .dataframe tbody tr th:only-of-type {\n",
       "        vertical-align: middle;\n",
       "    }\n",
       "\n",
       "    .dataframe tbody tr th {\n",
       "        vertical-align: top;\n",
       "    }\n",
       "\n",
       "    .dataframe thead th {\n",
       "        text-align: right;\n",
       "    }\n",
       "</style>\n",
       "<table border=\"1\" class=\"dataframe\">\n",
       "  <thead>\n",
       "    <tr style=\"text-align: right;\">\n",
       "      <th></th>\n",
       "      <th>sex</th>\n",
       "      <th>size</th>\n",
       "      <th>age</th>\n",
       "    </tr>\n",
       "    <tr>\n",
       "      <th>name</th>\n",
       "      <th></th>\n",
       "      <th></th>\n",
       "      <th></th>\n",
       "    </tr>\n",
       "  </thead>\n",
       "  <tbody>\n",
       "    <tr>\n",
       "      <th>simon</th>\n",
       "      <td>male</td>\n",
       "      <td>175</td>\n",
       "      <td>33</td>\n",
       "    </tr>\n",
       "    <tr>\n",
       "      <th>clara</th>\n",
       "      <td>female</td>\n",
       "      <td>167</td>\n",
       "      <td>45</td>\n",
       "    </tr>\n",
       "    <tr>\n",
       "      <th>serge</th>\n",
       "      <td>male</td>\n",
       "      <td>181</td>\n",
       "      <td>44</td>\n",
       "    </tr>\n",
       "    <tr>\n",
       "      <th>claire</th>\n",
       "      <td>female</td>\n",
       "      <td>174</td>\n",
       "      <td>31</td>\n",
       "    </tr>\n",
       "    <tr>\n",
       "      <th>patrick</th>\n",
       "      <td>male</td>\n",
       "      <td>172</td>\n",
       "      <td>52</td>\n",
       "    </tr>\n",
       "  </tbody>\n",
       "</table>\n",
       "</div>"
      ],
      "text/plain": [
       "            sex  size  age\n",
       "name                      \n",
       "simon      male   175   33\n",
       "clara    female   167   45\n",
       "serge      male   181   44\n",
       "claire   female   174   31\n",
       "patrick    male   172   52"
      ]
     },
     "execution_count": 24,
     "metadata": {},
     "output_type": "execute_result"
    }
   ],
   "source": [
    "people.head()"
   ]
  },
  {
   "cell_type": "code",
   "execution_count": 25,
   "id": "addressed-pointer",
   "metadata": {},
   "outputs": [
    {
     "data": {
      "text/html": [
       "<div>\n",
       "<style scoped>\n",
       "    .dataframe tbody tr th:only-of-type {\n",
       "        vertical-align: middle;\n",
       "    }\n",
       "\n",
       "    .dataframe tbody tr th {\n",
       "        vertical-align: top;\n",
       "    }\n",
       "\n",
       "    .dataframe thead th {\n",
       "        text-align: right;\n",
       "    }\n",
       "</style>\n",
       "<table border=\"1\" class=\"dataframe\">\n",
       "  <thead>\n",
       "    <tr style=\"text-align: right;\">\n",
       "      <th></th>\n",
       "      <th>sex</th>\n",
       "      <th>size</th>\n",
       "      <th>age</th>\n",
       "    </tr>\n",
       "    <tr>\n",
       "      <th>name</th>\n",
       "      <th></th>\n",
       "      <th></th>\n",
       "      <th></th>\n",
       "    </tr>\n",
       "  </thead>\n",
       "  <tbody>\n",
       "    <tr>\n",
       "      <th>jeanne</th>\n",
       "      <td>female</td>\n",
       "      <td>172</td>\n",
       "      <td>56</td>\n",
       "    </tr>\n",
       "    <tr>\n",
       "      <th>baptiste</th>\n",
       "      <td>male</td>\n",
       "      <td>178</td>\n",
       "      <td>39</td>\n",
       "    </tr>\n",
       "    <tr>\n",
       "      <th>mathilde</th>\n",
       "      <td>female</td>\n",
       "      <td>168</td>\n",
       "      <td>46</td>\n",
       "    </tr>\n",
       "    <tr>\n",
       "      <th>bob</th>\n",
       "      <td>male</td>\n",
       "      <td>186</td>\n",
       "      <td>33</td>\n",
       "    </tr>\n",
       "    <tr>\n",
       "      <th>elise</th>\n",
       "      <td>female</td>\n",
       "      <td>159</td>\n",
       "      <td>63</td>\n",
       "    </tr>\n",
       "  </tbody>\n",
       "</table>\n",
       "</div>"
      ],
      "text/plain": [
       "             sex  size  age\n",
       "name                       \n",
       "jeanne    female   172   56\n",
       "baptiste    male   178   39\n",
       "mathilde  female   168   46\n",
       "bob         male   186   33\n",
       "elise     female   159   63"
      ]
     },
     "execution_count": 25,
     "metadata": {},
     "output_type": "execute_result"
    }
   ],
   "source": [
    "people.tail()"
   ]
  },
  {
   "cell_type": "code",
   "execution_count": 26,
   "id": "creative-marine",
   "metadata": {},
   "outputs": [
    {
     "data": {
      "text/plain": [
       "(12, 3)"
      ]
     },
     "execution_count": 26,
     "metadata": {},
     "output_type": "execute_result"
    }
   ],
   "source": [
    "people.shape"
   ]
  },
  {
   "cell_type": "code",
   "execution_count": 27,
   "id": "negative-salon",
   "metadata": {},
   "outputs": [
    {
     "data": {
      "text/plain": [
       "sex     object\n",
       "size     int64\n",
       "age      int64\n",
       "dtype: object"
      ]
     },
     "execution_count": 27,
     "metadata": {},
     "output_type": "execute_result"
    }
   ],
   "source": [
    "people.dtypes"
   ]
  },
  {
   "cell_type": "code",
   "execution_count": 28,
   "id": "original-bench",
   "metadata": {},
   "outputs": [
    {
     "name": "stdout",
     "output_type": "stream",
     "text": [
      "<class 'pandas.core.frame.DataFrame'>\n",
      "Index: 12 entries, simon to elise\n",
      "Data columns (total 3 columns):\n",
      " #   Column  Non-Null Count  Dtype \n",
      "---  ------  --------------  ----- \n",
      " 0   sex     12 non-null     object\n",
      " 1   size    12 non-null     int64 \n",
      " 2   age     12 non-null     int64 \n",
      "dtypes: int64(2), object(1)\n",
      "memory usage: 1.6 KB\n"
     ]
    }
   ],
   "source": [
    "people.info(memory_usage=\"deep\")"
   ]
  },
  {
   "cell_type": "code",
   "execution_count": 29,
   "id": "surrounded-february",
   "metadata": {},
   "outputs": [
    {
     "data": {
      "text/html": [
       "<div>\n",
       "<style scoped>\n",
       "    .dataframe tbody tr th:only-of-type {\n",
       "        vertical-align: middle;\n",
       "    }\n",
       "\n",
       "    .dataframe tbody tr th {\n",
       "        vertical-align: top;\n",
       "    }\n",
       "\n",
       "    .dataframe thead th {\n",
       "        text-align: right;\n",
       "    }\n",
       "</style>\n",
       "<table border=\"1\" class=\"dataframe\">\n",
       "  <thead>\n",
       "    <tr style=\"text-align: right;\">\n",
       "      <th></th>\n",
       "      <th>size</th>\n",
       "      <th>age</th>\n",
       "    </tr>\n",
       "  </thead>\n",
       "  <tbody>\n",
       "    <tr>\n",
       "      <th>count</th>\n",
       "      <td>12.000000</td>\n",
       "      <td>12.000000</td>\n",
       "    </tr>\n",
       "    <tr>\n",
       "      <th>mean</th>\n",
       "      <td>173.750000</td>\n",
       "      <td>42.333333</td>\n",
       "    </tr>\n",
       "    <tr>\n",
       "      <th>std</th>\n",
       "      <td>7.886986</td>\n",
       "      <td>10.662878</td>\n",
       "    </tr>\n",
       "    <tr>\n",
       "      <th>min</th>\n",
       "      <td>159.000000</td>\n",
       "      <td>29.000000</td>\n",
       "    </tr>\n",
       "    <tr>\n",
       "      <th>25%</th>\n",
       "      <td>168.000000</td>\n",
       "      <td>33.000000</td>\n",
       "    </tr>\n",
       "    <tr>\n",
       "      <th>50%</th>\n",
       "      <td>173.000000</td>\n",
       "      <td>41.500000</td>\n",
       "    </tr>\n",
       "    <tr>\n",
       "      <th>75%</th>\n",
       "      <td>178.750000</td>\n",
       "      <td>47.500000</td>\n",
       "    </tr>\n",
       "    <tr>\n",
       "      <th>max</th>\n",
       "      <td>186.000000</td>\n",
       "      <td>63.000000</td>\n",
       "    </tr>\n",
       "  </tbody>\n",
       "</table>\n",
       "</div>"
      ],
      "text/plain": [
       "             size        age\n",
       "count   12.000000  12.000000\n",
       "mean   173.750000  42.333333\n",
       "std      7.886986  10.662878\n",
       "min    159.000000  29.000000\n",
       "25%    168.000000  33.000000\n",
       "50%    173.000000  41.500000\n",
       "75%    178.750000  47.500000\n",
       "max    186.000000  63.000000"
      ]
     },
     "execution_count": 29,
     "metadata": {},
     "output_type": "execute_result"
    }
   ],
   "source": [
    "people.describe()"
   ]
  },
  {
   "cell_type": "markdown",
   "id": "incident-favorite",
   "metadata": {},
   "source": [
    "### Analyse des données"
   ]
  },
  {
   "cell_type": "markdown",
   "id": "willing-greensboro",
   "metadata": {},
   "source": [
    "Affichez la taille des participants"
   ]
  },
  {
   "cell_type": "code",
   "execution_count": 31,
   "id": "spread-ferry",
   "metadata": {},
   "outputs": [
    {
     "data": {
      "text/plain": [
       "name\n",
       "simon       33\n",
       "clara       45\n",
       "serge       44\n",
       "claire      31\n",
       "patrick     52\n",
       "julie       37\n",
       "paul        29\n",
       "jeanne      56\n",
       "baptiste    39\n",
       "mathilde    46\n",
       "bob         33\n",
       "elise       63\n",
       "Name: age, dtype: int64"
      ]
     },
     "execution_count": 31,
     "metadata": {},
     "output_type": "execute_result"
    }
   ],
   "source": [
    "people[\"age\"]"
   ]
  },
  {
   "cell_type": "markdown",
   "id": "dried-principle",
   "metadata": {},
   "source": [
    "Affichez toutes les infos sur Claire"
   ]
  },
  {
   "cell_type": "code",
   "execution_count": 32,
   "id": "victorian-silicon",
   "metadata": {},
   "outputs": [
    {
     "data": {
      "text/plain": [
       "sex     female\n",
       "size       174\n",
       "age         31\n",
       "Name: claire, dtype: object"
      ]
     },
     "execution_count": 32,
     "metadata": {},
     "output_type": "execute_result"
    }
   ],
   "source": [
    "people.loc[\"claire\"]"
   ]
  },
  {
   "cell_type": "markdown",
   "id": "former-works",
   "metadata": {},
   "source": [
    "Déterminez la taille de Claire"
   ]
  },
  {
   "cell_type": "code",
   "execution_count": 34,
   "id": "comparative-information",
   "metadata": {},
   "outputs": [
    {
     "data": {
      "text/plain": [
       "174"
      ]
     },
     "execution_count": 34,
     "metadata": {},
     "output_type": "execute_result"
    }
   ],
   "source": [
    "people.loc[\"claire\", \"size\"]"
   ]
  },
  {
   "cell_type": "markdown",
   "id": "mediterranean-flashing",
   "metadata": {},
   "source": [
    "Déterminez l'âge de Baptiste."
   ]
  },
  {
   "cell_type": "code",
   "execution_count": 35,
   "id": "likely-argentina",
   "metadata": {},
   "outputs": [
    {
     "data": {
      "text/plain": [
       "39"
      ]
     },
     "execution_count": 35,
     "metadata": {},
     "output_type": "execute_result"
    }
   ],
   "source": [
    "people.loc[\"baptiste\", \"age\"]"
   ]
  },
  {
   "cell_type": "markdown",
   "id": "lightweight-nepal",
   "metadata": {},
   "source": [
    "Affichez, en une seule commande, l'âge de Paul et Bob."
   ]
  },
  {
   "cell_type": "code",
   "execution_count": 36,
   "id": "norman-leeds",
   "metadata": {},
   "outputs": [
    {
     "data": {
      "text/plain": [
       "name\n",
       "paul    29\n",
       "bob     33\n",
       "Name: age, dtype: int64"
      ]
     },
     "execution_count": 36,
     "metadata": {},
     "output_type": "execute_result"
    }
   ],
   "source": [
    "people.loc[[\"paul\", \"bob\"], \"age\"]"
   ]
  },
  {
   "cell_type": "markdown",
   "id": "piano-violence",
   "metadata": {},
   "source": [
    "Déterminez la moyenne et la valeur minimale de la taille et l'âge des individus."
   ]
  },
  {
   "cell_type": "code",
   "execution_count": 38,
   "id": "ordered-underwear",
   "metadata": {},
   "outputs": [
    {
     "data": {
      "text/plain": [
       "size    159\n",
       "age      29\n",
       "dtype: int64"
      ]
     },
     "execution_count": 38,
     "metadata": {},
     "output_type": "execute_result"
    }
   ],
   "source": [
    "people[[\"size\", \"age\"]].min()"
   ]
  },
  {
   "cell_type": "code",
   "execution_count": 39,
   "id": "attractive-secret",
   "metadata": {},
   "outputs": [
    {
     "data": {
      "text/plain": [
       "size    173.750000\n",
       "age      42.333333\n",
       "dtype: float64"
      ]
     },
     "execution_count": 39,
     "metadata": {},
     "output_type": "execute_result"
    }
   ],
   "source": [
    "people[[\"size\", \"age\"]].mean()"
   ]
  },
  {
   "cell_type": "markdown",
   "id": "excellent-agent",
   "metadata": {},
   "source": [
    "Comptez ensuite le nombre de personnes de chaque sexe."
   ]
  },
  {
   "cell_type": "code",
   "execution_count": 41,
   "id": "interpreted-promise",
   "metadata": {},
   "outputs": [
    {
     "data": {
      "text/plain": [
       "female    6\n",
       "male      6\n",
       "Name: sex, dtype: int64"
      ]
     },
     "execution_count": 41,
     "metadata": {},
     "output_type": "execute_result"
    }
   ],
   "source": [
    "people[\"sex\"].value_counts()"
   ]
  },
  {
   "cell_type": "markdown",
   "id": "modern-conservative",
   "metadata": {},
   "source": [
    "Déterminez, la taille et l'âge moyen chez les hommes et les femmes. Utilisez pour cela la méthode .groupby()."
   ]
  },
  {
   "cell_type": "code",
   "execution_count": 43,
   "id": "boring-andrew",
   "metadata": {},
   "outputs": [
    {
     "data": {
      "text/html": [
       "<div>\n",
       "<style scoped>\n",
       "    .dataframe tbody tr th:only-of-type {\n",
       "        vertical-align: middle;\n",
       "    }\n",
       "\n",
       "    .dataframe tbody tr th {\n",
       "        vertical-align: top;\n",
       "    }\n",
       "\n",
       "    .dataframe thead th {\n",
       "        text-align: right;\n",
       "    }\n",
       "</style>\n",
       "<table border=\"1\" class=\"dataframe\">\n",
       "  <thead>\n",
       "    <tr style=\"text-align: right;\">\n",
       "      <th></th>\n",
       "      <th>size</th>\n",
       "      <th>age</th>\n",
       "    </tr>\n",
       "    <tr>\n",
       "      <th>sex</th>\n",
       "      <th></th>\n",
       "      <th></th>\n",
       "    </tr>\n",
       "  </thead>\n",
       "  <tbody>\n",
       "    <tr>\n",
       "      <th>female</th>\n",
       "      <td>168.0</td>\n",
       "      <td>46.333333</td>\n",
       "    </tr>\n",
       "    <tr>\n",
       "      <th>male</th>\n",
       "      <td>179.5</td>\n",
       "      <td>38.333333</td>\n",
       "    </tr>\n",
       "  </tbody>\n",
       "</table>\n",
       "</div>"
      ],
      "text/plain": [
       "         size        age\n",
       "sex                     \n",
       "female  168.0  46.333333\n",
       "male    179.5  38.333333"
      ]
     },
     "execution_count": 43,
     "metadata": {},
     "output_type": "execute_result"
    }
   ],
   "source": [
    "people.groupby(\"sex\").mean()"
   ]
  },
  {
   "cell_type": "markdown",
   "id": "considered-prayer",
   "metadata": {},
   "source": [
    "Déterminez combien de d'individus mesurent plus de 1,80 m."
   ]
  },
  {
   "cell_type": "code",
   "execution_count": 44,
   "id": "arbitrary-colors",
   "metadata": {},
   "outputs": [
    {
     "data": {
      "text/html": [
       "<div>\n",
       "<style scoped>\n",
       "    .dataframe tbody tr th:only-of-type {\n",
       "        vertical-align: middle;\n",
       "    }\n",
       "\n",
       "    .dataframe tbody tr th {\n",
       "        vertical-align: top;\n",
       "    }\n",
       "\n",
       "    .dataframe thead th {\n",
       "        text-align: right;\n",
       "    }\n",
       "</style>\n",
       "<table border=\"1\" class=\"dataframe\">\n",
       "  <thead>\n",
       "    <tr style=\"text-align: right;\">\n",
       "      <th></th>\n",
       "      <th>sex</th>\n",
       "      <th>size</th>\n",
       "      <th>age</th>\n",
       "    </tr>\n",
       "    <tr>\n",
       "      <th>name</th>\n",
       "      <th></th>\n",
       "      <th></th>\n",
       "      <th></th>\n",
       "    </tr>\n",
       "  </thead>\n",
       "  <tbody>\n",
       "    <tr>\n",
       "      <th>serge</th>\n",
       "      <td>male</td>\n",
       "      <td>181</td>\n",
       "      <td>44</td>\n",
       "    </tr>\n",
       "    <tr>\n",
       "      <th>paul</th>\n",
       "      <td>male</td>\n",
       "      <td>185</td>\n",
       "      <td>29</td>\n",
       "    </tr>\n",
       "    <tr>\n",
       "      <th>bob</th>\n",
       "      <td>male</td>\n",
       "      <td>186</td>\n",
       "      <td>33</td>\n",
       "    </tr>\n",
       "  </tbody>\n",
       "</table>\n",
       "</div>"
      ],
      "text/plain": [
       "        sex  size  age\n",
       "name                  \n",
       "serge  male   181   44\n",
       "paul   male   185   29\n",
       "bob    male   186   33"
      ]
     },
     "execution_count": 44,
     "metadata": {},
     "output_type": "execute_result"
    }
   ],
   "source": [
    "people[ people[\"size\"]>180 ]"
   ]
  },
  {
   "cell_type": "markdown",
   "id": "ordered-childhood",
   "metadata": {},
   "source": [
    "Quelle femme a moins de 35 ans ?"
   ]
  },
  {
   "cell_type": "code",
   "execution_count": 46,
   "id": "suburban-curve",
   "metadata": {},
   "outputs": [
    {
     "data": {
      "text/html": [
       "<div>\n",
       "<style scoped>\n",
       "    .dataframe tbody tr th:only-of-type {\n",
       "        vertical-align: middle;\n",
       "    }\n",
       "\n",
       "    .dataframe tbody tr th {\n",
       "        vertical-align: top;\n",
       "    }\n",
       "\n",
       "    .dataframe thead th {\n",
       "        text-align: right;\n",
       "    }\n",
       "</style>\n",
       "<table border=\"1\" class=\"dataframe\">\n",
       "  <thead>\n",
       "    <tr style=\"text-align: right;\">\n",
       "      <th></th>\n",
       "      <th>sex</th>\n",
       "      <th>size</th>\n",
       "      <th>age</th>\n",
       "    </tr>\n",
       "    <tr>\n",
       "      <th>name</th>\n",
       "      <th></th>\n",
       "      <th></th>\n",
       "      <th></th>\n",
       "    </tr>\n",
       "  </thead>\n",
       "  <tbody>\n",
       "    <tr>\n",
       "      <th>claire</th>\n",
       "      <td>female</td>\n",
       "      <td>174</td>\n",
       "      <td>31</td>\n",
       "    </tr>\n",
       "  </tbody>\n",
       "</table>\n",
       "</div>"
      ],
      "text/plain": [
       "           sex  size  age\n",
       "name                     \n",
       "claire  female   174   31"
      ]
     },
     "execution_count": 46,
     "metadata": {},
     "output_type": "execute_result"
    }
   ],
   "source": [
    "people[ (people[\"sex\"]==\"female\") & (people[\"age\"]<35) ]"
   ]
  },
  {
   "cell_type": "markdown",
   "id": "exceptional-fraud",
   "metadata": {},
   "source": [
    "Déterminez l'âge moyen des individus qui mesurent plus de 1,80 m."
   ]
  },
  {
   "cell_type": "code",
   "execution_count": 50,
   "id": "fancy-schedule",
   "metadata": {},
   "outputs": [
    {
     "data": {
      "text/plain": [
       "35.333333333333336"
      ]
     },
     "execution_count": 50,
     "metadata": {},
     "output_type": "execute_result"
    }
   ],
   "source": [
    "people[ people[\"size\"] > 180 ][\"age\"].mean()"
   ]
  },
  {
   "cell_type": "markdown",
   "id": "incomplete-cleveland",
   "metadata": {},
   "source": [
    "Déterminez la taille maximale des femmes qui ont plus de 35 ans."
   ]
  },
  {
   "cell_type": "code",
   "execution_count": 51,
   "id": "stretch-costa",
   "metadata": {},
   "outputs": [
    {
     "data": {
      "text/plain": [
       "174"
      ]
     },
     "execution_count": 51,
     "metadata": {},
     "output_type": "execute_result"
    }
   ],
   "source": [
    "people[ people[\"sex\"] == \"female\" ][\"size\"].max()"
   ]
  },
  {
   "cell_type": "markdown",
   "id": "australian-processor",
   "metadata": {},
   "source": [
    "## Des graphiques"
   ]
  },
  {
   "cell_type": "code",
   "execution_count": 53,
   "id": "exact-webcam",
   "metadata": {},
   "outputs": [],
   "source": [
    "import matplotlib.pyplot as plt"
   ]
  },
  {
   "cell_type": "code",
   "execution_count": 63,
   "id": "built-millennium",
   "metadata": {},
   "outputs": [
    {
     "data": {
      "image/png": "[encoded data removed]",
      "text/plain": [
       "<Figure size 432x288 with 1 Axes>"
      ]
     },
     "metadata": {
      "needs_background": "light"
     },
     "output_type": "display_data"
    }
   ],
   "source": [
    "plt.scatter(people[\"age\"], people[\"size\"], color=\"green\", marker=\"o\", s=50)\n",
    "plt.xlabel(\"Age (années)\")\n",
    "plt.ylabel(\"Taille (cm)\");"
   ]
  },
  {
   "cell_type": "code",
   "execution_count": 74,
   "id": "later-agreement",
   "metadata": {},
   "outputs": [
    {
     "data": {
      "text/html": [
       "<div>\n",
       "<style scoped>\n",
       "    .dataframe tbody tr th:only-of-type {\n",
       "        vertical-align: middle;\n",
       "    }\n",
       "\n",
       "    .dataframe tbody tr th {\n",
       "        vertical-align: top;\n",
       "    }\n",
       "\n",
       "    .dataframe thead th {\n",
       "        text-align: right;\n",
       "    }\n",
       "</style>\n",
       "<table border=\"1\" class=\"dataframe\">\n",
       "  <thead>\n",
       "    <tr style=\"text-align: right;\">\n",
       "      <th></th>\n",
       "      <th>size</th>\n",
       "      <th>age</th>\n",
       "    </tr>\n",
       "    <tr>\n",
       "      <th>sex</th>\n",
       "      <th></th>\n",
       "      <th></th>\n",
       "    </tr>\n",
       "  </thead>\n",
       "  <tbody>\n",
       "    <tr>\n",
       "      <th>female</th>\n",
       "      <td>168.0</td>\n",
       "      <td>46.333333</td>\n",
       "    </tr>\n",
       "    <tr>\n",
       "      <th>male</th>\n",
       "      <td>179.5</td>\n",
       "      <td>38.333333</td>\n",
       "    </tr>\n",
       "  </tbody>\n",
       "</table>\n",
       "</div>"
      ],
      "text/plain": [
       "         size        age\n",
       "sex                     \n",
       "female  168.0  46.333333\n",
       "male    179.5  38.333333"
      ]
     },
     "execution_count": 74,
     "metadata": {},
     "output_type": "execute_result"
    }
   ],
   "source": [
    "people.groupby(\"sex\").mean()"
   ]
  },
  {
   "cell_type": "code",
   "execution_count": 78,
   "id": "challenging-italian",
   "metadata": {},
   "outputs": [
    {
     "data": {
      "image/png": "[encoded data removed]",
      "text/plain": [
       "<Figure size 432x288 with 1 Axes>"
      ]
     },
     "metadata": {
      "needs_background": "light"
     },
     "output_type": "display_data"
    }
   ],
   "source": [
    "plt.bar(people.groupby(\"sex\").mean().index, \n",
    "        people.groupby(\"sex\").mean()[\"age\"].values);"
   ]
  },
  {
   "cell_type": "code",
   "execution_count": 79,
   "id": "occupied-mining",
   "metadata": {},
   "outputs": [
    {
     "data": {
      "image/png": "[encoded data removed]",
      "text/plain": [
       "<Figure size 432x288 with 1 Axes>"
      ]
     },
     "metadata": {
      "needs_background": "light"
     },
     "output_type": "display_data"
    }
   ],
   "source": [
    "plt.bar(people.groupby(\"sex\").mean().index, \n",
    "        people.groupby(\"sex\").mean()[\"size\"].values);"
   ]
  },
  {
   "cell_type": "code",
   "execution_count": null,
   "id": "environmental-portsmouth",
   "metadata": {},
   "outputs": [],
   "source": []
  }
 ],
 "metadata": {
  "kernelspec": {
   "display_name": "Python 3",
   "language": "python",
   "name": "python3"
  },
  "language_info": {
   "codemirror_mode": {
    "name": "ipython",
    "version": 3
   },
   "file_extension": ".py",
   "mimetype": "text/x-python",
   "name": "python",
   "nbconvert_exporter": "python",
   "pygments_lexer": "ipython3",
   "version": "3.7.9"
  }
 },
 "nbformat": 4,
 "nbformat_minor": 5
}
